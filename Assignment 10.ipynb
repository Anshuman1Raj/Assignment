{
 "cells": [
  {
   "cell_type": "markdown",
   "id": "5965b736-0ae2-4736-a976-996eb724628b",
   "metadata": {},
   "source": [
    "1.\tWrite a Python program to find sum of elements in list?"
   ]
  },
  {
   "cell_type": "code",
   "execution_count": 1,
   "id": "8b686651-9aa8-4891-b98c-52bbac01fd40",
   "metadata": {},
   "outputs": [
    {
     "name": "stdout",
     "output_type": "stream",
     "text": [
      "16\n"
     ]
    }
   ],
   "source": [
    "class Sum:\n",
    "    def __init__(self,list) -> None:\n",
    "        self.list=list\n",
    "    def get(self):\n",
    "        return sum(self.list)\n",
    "Ansh=Sum([1,2,3,7,3])\n",
    "print(Ansh.get())        "
   ]
  },
  {
   "cell_type": "markdown",
   "id": "87e48d1f-870c-4786-85ab-18eb477ec1fc",
   "metadata": {},
   "source": [
    "2.\tWrite a Python program to  Multiply all numbers in the list?"
   ]
  },
  {
   "cell_type": "code",
   "execution_count": 2,
   "id": "23e36dfc-7538-4178-9fff-eede53e9cd2f",
   "metadata": {},
   "outputs": [
    {
     "name": "stdout",
     "output_type": "stream",
     "text": [
      "36\n"
     ]
    }
   ],
   "source": [
    "class Multipliction:\n",
    "    def __init__(self,list) -> None:\n",
    "        self.list=list\n",
    "    def get(self):\n",
    "        Mul=1\n",
    "        for i in self.list:\n",
    "            Mul*=i\n",
    "        return Mul    \n",
    "Ansh=Multipliction([1,2,3,6])\n",
    "print(Ansh.get())  "
   ]
  },
  {
   "cell_type": "markdown",
   "id": "91350e25-21e9-4eaf-9402-0cdf9725698c",
   "metadata": {},
   "source": [
    "3.\tWrite a Python program to find smallest number in a list?"
   ]
  },
  {
   "cell_type": "code",
   "execution_count": 3,
   "id": "2602cffd-bed9-4dab-ad50-90cb744ac0f3",
   "metadata": {},
   "outputs": [
    {
     "name": "stdout",
     "output_type": "stream",
     "text": [
      "1\n"
     ]
    }
   ],
   "source": [
    "class Smallest:\n",
    "    def __init__(self,list) -> None:\n",
    "        self.list=list\n",
    "    def get(self):\n",
    "        return min(self.list)\n",
    "Ansh=Smallest([1,2,3,7,3])\n",
    "print(Ansh.get())        "
   ]
  },
  {
   "cell_type": "markdown",
   "id": "9ca31d30-bbe5-4ba0-8ac4-d5be52174951",
   "metadata": {},
   "source": [
    "4.\tWrite a Python program to find largest number in a list?"
   ]
  },
  {
   "cell_type": "code",
   "execution_count": 4,
   "id": "0743e189-6192-47a0-87a7-78401544dff3",
   "metadata": {},
   "outputs": [
    {
     "name": "stdout",
     "output_type": "stream",
     "text": [
      "7\n"
     ]
    }
   ],
   "source": [
    "class Largest:\n",
    "    def __init__(self,list) -> None:\n",
    "        self.list=list\n",
    "    def get(self):\n",
    "        return max(self.list)\n",
    "Ansh=Largest([1,2,3,7,3])\n",
    "print(Ansh.get())        "
   ]
  },
  {
   "cell_type": "markdown",
   "id": "157626e3-715c-47c6-8458-36e9c990caef",
   "metadata": {},
   "source": [
    "5.\tWrite a Python program to find second largest number in a list?"
   ]
  },
  {
   "cell_type": "code",
   "execution_count": 5,
   "id": "781a8ae9-c106-476c-b4b2-2806d1ea7152",
   "metadata": {},
   "outputs": [
    {
     "name": "stdout",
     "output_type": "stream",
     "text": [
      "3\n"
     ]
    }
   ],
   "source": [
    "class Second_Largest:\n",
    "    def __init__(self,list) -> None:\n",
    "        self.list=list\n",
    "    def get(self):\n",
    "        self.list.sort()\n",
    "        return self.list[-2]\n",
    "Ansh=Second_Largest([1,2,3,7,3])\n",
    "print(Ansh.get())        "
   ]
  },
  {
   "cell_type": "markdown",
   "id": "ac6013ed-443a-4663-b43e-dfc396952314",
   "metadata": {},
   "source": [
    "6.\tWrite a Python program to find N largest elements from a list?"
   ]
  },
  {
   "cell_type": "code",
   "execution_count": 6,
   "id": "1d5adcd9-dc5e-4039-a138-3d1ecec7cfbb",
   "metadata": {},
   "outputs": [
    {
     "name": "stdout",
     "output_type": "stream",
     "text": [
      "[3, 7]\n"
     ]
    }
   ],
   "source": [
    "class N_Largest:\n",
    "    def __init__(self,list,N_Number) -> None:\n",
    "        self.list=list\n",
    "        self.N_Number=N_Number\n",
    "    def get(self):\n",
    "        self.list.sort()\n",
    "        return self.list[-self.N_Number:]\n",
    "Ansh=N_Largest([1,2,3,7,3],2)\n",
    "print(Ansh.get())        "
   ]
  },
  {
   "cell_type": "markdown",
   "id": "4e6cc7f1-9821-41bd-84ed-a1c34083bcc9",
   "metadata": {},
   "source": [
    "7.\tWrite a Python program to print even numbers in a list?"
   ]
  },
  {
   "cell_type": "code",
   "execution_count": 7,
   "id": "9fd612dc-7c2e-414d-9d9a-af6012fa82cb",
   "metadata": {},
   "outputs": [
    {
     "name": "stdout",
     "output_type": "stream",
     "text": [
      "[2, 8, 4]\n"
     ]
    }
   ],
   "source": [
    "class Even:\n",
    "    def __init__(self,list) -> None:\n",
    "        self.list=list\n",
    "       \n",
    "    def get(self):\n",
    "        New_list=[]\n",
    "        for i in self.list:\n",
    "            if i%2==0:\n",
    "                New_list.append(i)\n",
    "            else:\n",
    "                pass  \n",
    "        return New_list      \n",
    "Ansh=Even([1,2,3,7,3,8,4])\n",
    "print(Ansh.get())        "
   ]
  },
  {
   "cell_type": "markdown",
   "id": "3b1f05cd-8939-4ffb-92e3-5070f102bc2c",
   "metadata": {},
   "source": [
    "8.\tWrite a Python program to print odd numbers in a List?"
   ]
  },
  {
   "cell_type": "code",
   "execution_count": 8,
   "id": "c1234907-c467-489a-b2f5-fcb67d086c70",
   "metadata": {},
   "outputs": [
    {
     "name": "stdout",
     "output_type": "stream",
     "text": [
      "[1, 3, 7, 3]\n"
     ]
    }
   ],
   "source": [
    "class Odd:\n",
    "    def __init__(self,list) -> None:\n",
    "        self.list=list\n",
    "       \n",
    "    def get(self):\n",
    "        New_list=[]\n",
    "        for i in self.list:\n",
    "            if i%2!=0:\n",
    "                New_list.append(i)\n",
    "            else:\n",
    "                pass  \n",
    "        return New_list      \n",
    "Ansh=Odd([1,2,3,7,3,8,4])\n",
    "print(Ansh.get())        "
   ]
  },
  {
   "cell_type": "markdown",
   "id": "00d7c582-46c4-42e9-84c8-56fde250eeca",
   "metadata": {},
   "source": [
    "9.\tWrite a Python program to Remove empty List from List?"
   ]
  },
  {
   "cell_type": "code",
   "execution_count": 9,
   "id": "61f477cf-7c8c-46c1-a041-1bd2ec67f660",
   "metadata": {},
   "outputs": [
    {
     "name": "stdout",
     "output_type": "stream",
     "text": [
      "[1, 2, 3, 7, 3, 8, 4]\n"
     ]
    }
   ],
   "source": [
    "class Remove_list:\n",
    "    def __init__(self,list) -> None:\n",
    "        self.list=list\n",
    "       \n",
    "    def get(self):\n",
    "        for i in self.list:\n",
    "            if i==[]:\n",
    "                self.list.remove(i)\n",
    "            else:\n",
    "                pass  \n",
    "        return self.list    \n",
    "Ansh=Remove_list([1,2,3,7,[],3,8,4,[]])\n",
    "print(Ansh.get())        "
   ]
  },
  {
   "cell_type": "markdown",
   "id": "8fdb636a-0512-47c1-b9b9-cad942acf695",
   "metadata": {},
   "source": [
    "10.\tWrite a Python program to Cloning or Copying a list?"
   ]
  },
  {
   "cell_type": "code",
   "execution_count": 10,
   "id": "ae62cdb0-8535-4ddd-9d67-1cb9f42b1d77",
   "metadata": {},
   "outputs": [
    {
     "name": "stdout",
     "output_type": "stream",
     "text": [
      "[1, 2, 3, 7, 3, 8, 4]\n",
      "[1, 2, 3, 7, 3, 8, 4]\n"
     ]
    }
   ],
   "source": [
    "import copy\n",
    "class Clonning_Copying:\n",
    "    def __init__(self,list) -> None:\n",
    "        self.list=list\n",
    "       \n",
    "    def Cloning(self):\n",
    "        New_List=self.list[:]\n",
    "        return  New_List\n",
    "    def Copying(self):\n",
    "        return copy.copy(self.list) \n",
    "Ansh=Clonning_Copying([1,2,3,7,3,8,4])\n",
    "print(Ansh.Cloning())  \n",
    "print(Ansh.Copying())  \n"
   ]
  },
  {
   "cell_type": "markdown",
   "id": "bdf74405-d5fe-41a9-853a-65aab65b1cab",
   "metadata": {},
   "source": [
    "11.\tWrite a Python program to Count occurrences of an element in a list?"
   ]
  },
  {
   "cell_type": "code",
   "execution_count": 11,
   "id": "c7fc0293-76af-41a9-8b8d-4ed119996948",
   "metadata": {},
   "outputs": [
    {
     "name": "stdout",
     "output_type": "stream",
     "text": [
      "1\n"
     ]
    }
   ],
   "source": [
    "class Count:\n",
    "    def __init__(self,list,Element) -> None:\n",
    "        self.list=list\n",
    "        self.Elememt=Element\n",
    "       \n",
    "    def get(self):\n",
    "        return self.list.count(self.Elememt)    \n",
    "Ansh=Count([1,2,3,7,[],3,8,4,[]],8)\n",
    "print(Ansh.get())  "
   ]
  }
 ],
 "metadata": {
  "kernelspec": {
   "display_name": "Python 3 (ipykernel)",
   "language": "python",
   "name": "python3"
  },
  "language_info": {
   "codemirror_mode": {
    "name": "ipython",
    "version": 3
   },
   "file_extension": ".py",
   "mimetype": "text/x-python",
   "name": "python",
   "nbconvert_exporter": "python",
   "pygments_lexer": "ipython3",
   "version": "3.12.1"
  }
 },
 "nbformat": 4,
 "nbformat_minor": 5
}

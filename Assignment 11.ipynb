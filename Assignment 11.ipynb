{
 "cells": [
  {
   "cell_type": "markdown",
   "id": "6af87ebe-48c6-41c6-8f34-f1aca17d787e",
   "metadata": {},
   "source": [
    "1.\tWrite a Python program to find words which are greater than given length k?"
   ]
  },
  {
   "cell_type": "code",
   "execution_count": 1,
   "id": "f7764b02-f166-4e91-b6fb-bb27b68afcc8",
   "metadata": {},
   "outputs": [
    {
     "name": "stdout",
     "output_type": "stream",
     "text": [
      "Sonal is greater than the given length\n"
     ]
    }
   ],
   "source": [
    "class Lenght_Finder:\n",
    "    def __init__(self,word,length) -> None:\n",
    "        self.word=word\n",
    "        self.length=length\n",
    "\n",
    "    def get(self):\n",
    "        if len(self.word)==self.length:\n",
    "            return f\"{self.word} is equal to the given length\"\n",
    "        if len(self.word)>self.length:\n",
    "            return f\"{self.word} is greater than the given length\"\n",
    "        else:   \n",
    "            return f\"{self.word} is smaller than the given length\"\n",
    "Ansh=Lenght_Finder(\"Sonal\",2)\n",
    "print(Ansh.get())          "
   ]
  },
  {
   "cell_type": "markdown",
   "id": "eb871ed4-8cd8-4f1e-ae56-46c985adcfc1",
   "metadata": {},
   "source": [
    "2.\tWrite a Python program for removing i-th character from a string?"
   ]
  },
  {
   "cell_type": "code",
   "execution_count": 2,
   "id": "46625a07-7822-42f3-8378-0904f3635606",
   "metadata": {},
   "outputs": [
    {
     "name": "stdout",
     "output_type": "stream",
     "text": [
      "Sona\n"
     ]
    }
   ],
   "source": [
    "class Remove_Character:\n",
    "    def __init__(self,word,i_th_Character) -> None:\n",
    "        self.word=word\n",
    "        self.i_th_Character=i_th_Character\n",
    "\n",
    "    def get(self):\n",
    "        return self.word[:self.i_th_Character]+self.word[self.i_th_Character+1:]\n",
    "Ansh=Remove_Character(\"Sonal\",4)\n",
    "print(Ansh.get())          "
   ]
  },
  {
   "cell_type": "markdown",
   "id": "3032bad4-6982-43c0-b72f-45748543de89",
   "metadata": {},
   "source": [
    "3.\tWrite a Python program to split and join a string?"
   ]
  },
  {
   "cell_type": "code",
   "execution_count": 3,
   "id": "237c3cbd-87f2-4562-b5f3-f9fda27c6761",
   "metadata": {},
   "outputs": [
    {
     "name": "stdout",
     "output_type": "stream",
     "text": [
      "Ansh is a good Boy\n"
     ]
    }
   ],
   "source": [
    "class Split_and_Join:\n",
    "    def __init__(self,str) -> None:\n",
    "        self.str=str\n",
    "    def splitter_and_joiner(self):\n",
    "        return \" \".join(self.str.split())\n",
    "Ansh=Split_and_Join(\"Ansh is a good Boy\")\n",
    "print(Ansh.splitter_and_joiner())                        "
   ]
  },
  {
   "cell_type": "markdown",
   "id": "45befeee-4eef-444d-9f25-419518b040cb",
   "metadata": {},
   "source": [
    "4.\tWrite a Python to check if a given string is binary string or not?"
   ]
  },
  {
   "cell_type": "code",
   "execution_count": 4,
   "id": "2f62cd37-7dd8-4b5e-9c0a-c65e62d2ebc9",
   "metadata": {},
   "outputs": [
    {
     "name": "stdout",
     "output_type": "stream",
     "text": [
      "yes\n"
     ]
    }
   ],
   "source": [
    "class Binary_String_Finder:\n",
    "    def __init__(self,str) -> None:\n",
    "        self.str=str\n",
    "    def Finder(self):\n",
    "        for i in range(len(self.str)):\n",
    "            if self.str[i]==\"0\" or self.str[i]==\"1\":\n",
    "                flag=True\n",
    "            else:\n",
    "                flag=False\n",
    "                break\n",
    "        if flag==True:\n",
    "            print(\"yes\")\n",
    "        else:\n",
    "            print(\"No\")   \n",
    "Ansh=Binary_String_Finder(\"010101010\")\n",
    "Ansh.Finder()                         "
   ]
  },
  {
   "cell_type": "markdown",
   "id": "f2476dc3-272f-45c8-8818-651db43353ae",
   "metadata": {},
   "source": [
    "5.\tWrite a Python program to find uncommon words from two Strings?"
   ]
  },
  {
   "cell_type": "code",
   "execution_count": 5,
   "id": "cd235b6f-a013-45cd-b198-9c7832e4bd0f",
   "metadata": {},
   "outputs": [
    {
     "name": "stdout",
     "output_type": "stream",
     "text": [
      "['is', 'a', 'boy']\n"
     ]
    }
   ],
   "source": [
    "class Uncommon_word_Finder:\n",
    "    def __init__(self,String1,String2) -> None:\n",
    "        self.String1=String1\n",
    "        self.String2=String2\n",
    "    def Finder(self):\n",
    "        List1=self.String1.split()\n",
    "        List2=self.String2.split()\n",
    "        List3=[]\n",
    "        for i in List1:\n",
    "            for j in List2:\n",
    "                if i==j:\n",
    "                    List3.append(i)\n",
    "                else:\n",
    "                    pass\n",
    "        return List3            \n",
    "     \n",
    "Ansh=Uncommon_word_Finder(\"Sonal is a good boy\",\"Ansh is a bad boy\")\n",
    "print(Ansh.Finder())                         "
   ]
  },
  {
   "cell_type": "markdown",
   "id": "78e6feb5-73be-4034-ac6c-900b588f6d61",
   "metadata": {},
   "source": [
    "6.\tWrite a Python to find all duplicate characters in string?"
   ]
  },
  {
   "cell_type": "code",
   "execution_count": 8,
   "id": "3b389e4a-ba83-4057-8546-e09928beedc5",
   "metadata": {},
   "outputs": [
    {
     "name": "stdout",
     "output_type": "stream",
     "text": [
      "{'o', 'a'}\n"
     ]
    }
   ],
   "source": [
    "class Check_String:\n",
    "    def __init__(self,word) -> None:\n",
    "        self.word=word\n",
    "    def Checker(self):\n",
    "        List=[]\n",
    "        for i in self.word:\n",
    "            count=self.word.count(i)\n",
    "            if count>1:\n",
    "                List.append(i)\n",
    "            else:\n",
    "                pass\n",
    "        return set(List)    \n",
    "            \n",
    "Ansh=Check_String(\"Sooaaal\")\n",
    "print(Ansh.Checker())               "
   ]
  },
  {
   "cell_type": "markdown",
   "id": "6172cd6a-0046-4ba9-929d-977c8d8c9395",
   "metadata": {},
   "source": [
    "7.\tWrite a Python Program to check if a string contains any special character?"
   ]
  },
  {
   "cell_type": "code",
   "execution_count": 9,
   "id": "7b36db3a-4e42-4312-aa22-4e4abd79942f",
   "metadata": {},
   "outputs": [
    {
     "name": "stdout",
     "output_type": "stream",
     "text": [
      "No\n"
     ]
    }
   ],
   "source": [
    "import string\n",
    "class Check_String:\n",
    "    def __init__(self,word) -> None:\n",
    "        self.word=word\n",
    "    def Checker(self):\n",
    "        l1=([*self.word])\n",
    "        l2=([*string.punctuation])\n",
    "        for i in l1:\n",
    "            if i in l2:\n",
    "                Flag=True\n",
    "                break\n",
    "            else:\n",
    "                Flag=False\n",
    "        if Flag==True:\n",
    "            print(\"yes\")\n",
    "        else:\n",
    "            print(\"No\")                \n",
    "            \n",
    "            \n",
    "Ansh=Check_String(\"Soal\")\n",
    "Ansh.Checker()               "
   ]
  }
 ],
 "metadata": {
  "kernelspec": {
   "display_name": "Python 3 (ipykernel)",
   "language": "python",
   "name": "python3"
  },
  "language_info": {
   "codemirror_mode": {
    "name": "ipython",
    "version": 3
   },
   "file_extension": ".py",
   "mimetype": "text/x-python",
   "name": "python",
   "nbconvert_exporter": "python",
   "pygments_lexer": "ipython3",
   "version": "3.12.1"
  }
 },
 "nbformat": 4,
 "nbformat_minor": 5
}

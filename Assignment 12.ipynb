{
 "cells": [
  {
   "cell_type": "markdown",
   "id": "0b71349c-e7c8-4e48-a595-d99e38640a36",
   "metadata": {},
   "source": [
    "1.\tWrite a Python program to Extract Unique values dictionary values?"
   ]
  },
  {
   "cell_type": "code",
   "execution_count": 1,
   "id": "e145ca54-b1cd-4ba8-9f11-473ae28792bc",
   "metadata": {},
   "outputs": [
    {
     "name": "stdout",
     "output_type": "stream",
     "text": [
      "{1, 2, 3}\n"
     ]
    }
   ],
   "source": [
    "class Extract_Unique:\n",
    "    def __init__(self,dict) -> None:\n",
    "        self.dict=dict\n",
    "    def extracter(self):\n",
    "        a=[]\n",
    "        for i in self.dict:\n",
    "            a.append(self.dict[i])\n",
    "        return set(a)\n",
    "Ansh=Extract_Unique({\"Sonal\":1,\"Ansh\":2,\"Nishant\":3,\"Khushi\":2})\n",
    "print(Ansh.extracter())"
   ]
  },
  {
   "cell_type": "markdown",
   "id": "92666092-517d-4ac3-b484-3aa783c8d88f",
   "metadata": {},
   "source": [
    "2.\tWrite a Python program to find the sum of all items in a dictionary?"
   ]
  },
  {
   "cell_type": "code",
   "execution_count": 2,
   "id": "31910286-becb-41e5-be50-ca969be89852",
   "metadata": {},
   "outputs": [
    {
     "name": "stdout",
     "output_type": "stream",
     "text": [
      "8\n"
     ]
    }
   ],
   "source": [
    "class Sum_items:\n",
    "    def __init__(self,dict) -> None:\n",
    "        self.dict=dict\n",
    "    def Sum(self):\n",
    "        a=[]\n",
    "        for i in self.dict:\n",
    "            a.append(self.dict[i])\n",
    "        return sum(a)\n",
    "Ansh=Sum_items({\"Sonal\":1,\"Ansh\":2,\"Nishant\":3,\"Khushi\":2})\n",
    "print(Ansh.Sum())"
   ]
  },
  {
   "cell_type": "markdown",
   "id": "6d7a558f-c204-46c5-9d94-d91b045d7e19",
   "metadata": {},
   "source": [
    "3.\tWrite a Python program to Merging two Dictionaries?"
   ]
  },
  {
   "cell_type": "code",
   "execution_count": 3,
   "id": "3a71bdfa-2a22-4f63-9fa7-b82e291ec225",
   "metadata": {},
   "outputs": [
    {
     "name": "stdout",
     "output_type": "stream",
     "text": [
      "{1: 2, 2: 4, 'Sonal': 1, 'Ansh': 2, 'Nishant': 3, 'Khushi': 2}\n",
      "{'Sonal': 1, 'Ansh': 2, 'Nishant': 3, 'Khushi': 2, 1: 2, 2: 4}\n"
     ]
    }
   ],
   "source": [
    "class Merge_Dict:\n",
    "    def __init__(self,dict1,dict2) -> None:\n",
    "        self.dict1=dict1\n",
    "        self.dict2=dict2\n",
    "    def Merger_Method1(self):\n",
    "        self.dict2.update(self.dict1)\n",
    "        return self.dict2\n",
    "    def Merger_Method2(self):\n",
    "        New_Dict={**self.dict1,**self.dict2}\n",
    "        return New_Dict\n",
    "        \n",
    "Ansh=Merge_Dict({\"Sonal\":1,\"Ansh\":2,\"Nishant\":3,\"Khushi\":2},{1:2,2:4})\n",
    "print(Ansh.Merger_Method1())\n",
    "print(Ansh.Merger_Method2())"
   ]
  },
  {
   "cell_type": "markdown",
   "id": "944bccbd-59ad-4414-a022-48dcd6a4efc8",
   "metadata": {},
   "source": [
    "4.\tWrite a Python program to convert key-values list to flat dictionary?"
   ]
  },
  {
   "cell_type": "code",
   "execution_count": 4,
   "id": "1c01f035-5301-4820-b597-73cfced71c42",
   "metadata": {},
   "outputs": [
    {
     "name": "stdout",
     "output_type": "stream",
     "text": [
      "dict_items([('c', 1), ('a', 2), ('b', 3)])\n"
     ]
    }
   ],
   "source": [
    "class Dict_to_FlatList:\n",
    "    def __init__(self,Dict) -> None:\n",
    "        self.Dict=Dict\n",
    "    def Converter(self):\n",
    "        New_List=self.Dict.items()\n",
    "        return New_List\n",
    "Ansh=Dict_to_FlatList({\"c\":1,\"a\":2,\"b\":3})\n",
    "print(Ansh.Converter())       "
   ]
  },
  {
   "cell_type": "markdown",
   "id": "7dc05567-6ccd-4282-b1db-7eecd3658ec9",
   "metadata": {},
   "source": [
    "5.\tWrite a Python program to insertion at the beginning in OrderedDict?"
   ]
  },
  {
   "cell_type": "code",
   "execution_count": 5,
   "id": "1fbd019d-cb22-47cc-a949-456de51e5309",
   "metadata": {},
   "outputs": [
    {
     "name": "stdout",
     "output_type": "stream",
     "text": [
      "OrderedDict({'d': 4, 'c': 1, 'a': 2, 'b': 3})\n"
     ]
    }
   ],
   "source": [
    "from collections import OrderedDict\n",
    "class Insertion_Dict:\n",
    "    def __init__(self,Dict) -> None:\n",
    "        self.Dict=Dict\n",
    "    def Inserter(self):\n",
    "        dict_Ordered=OrderedDict(self.Dict)\n",
    "        Key=\"d\"\n",
    "        value=4\n",
    "        dict_Ordered.update({Key:value})    \n",
    "        dict_Ordered.move_to_end(Key,last=False)\n",
    "        return dict_Ordered\n",
    "Ansh=Insertion_Dict({\"c\":1,\"a\":2,\"b\":3})\n",
    "print(Ansh.Inserter())    "
   ]
  },
  {
   "cell_type": "markdown",
   "id": "84025530-4a93-41ab-8928-fbbf67d95062",
   "metadata": {},
   "source": [
    "6.\tWrite a Python program to check order of character in string using OrderedDict()?"
   ]
  },
  {
   "cell_type": "code",
   "execution_count": 6,
   "id": "11672a95-f26e-4c3d-9c95-4994ba6d4762",
   "metadata": {},
   "outputs": [
    {
     "name": "stdout",
     "output_type": "stream",
     "text": [
      "OrderedDict({'a': 2, 'b': 3, 'c': 1})\n"
     ]
    }
   ],
   "source": [
    "from collections import OrderedDict\n",
    "class Ordered_Dict:\n",
    "    def __init__(self,Dict) -> None:\n",
    "        self.Dict=Dict\n",
    "    def Get_Dict(self):\n",
    "        Dict_Ordered=OrderedDict(sorted(self.Dict.items()))\n",
    "        return Dict_Ordered\n",
    "Ansh=Ordered_Dict({\"c\":1,\"a\":2,\"b\":3})\n",
    "print(Ansh.Get_Dict())  "
   ]
  },
  {
   "cell_type": "markdown",
   "id": "29b0789c-0b48-47a4-8ff5-410cfd887699",
   "metadata": {},
   "source": [
    "7.\tWrite a Python program to sort Python Dictionaries by Key or Value?"
   ]
  },
  {
   "cell_type": "code",
   "execution_count": 7,
   "id": "5c6344a3-32d4-442a-b359-c1844674773c",
   "metadata": {},
   "outputs": [
    {
     "name": "stdout",
     "output_type": "stream",
     "text": [
      "[('a', 2), ('b', 3), ('c', 1)]\n",
      "[1, 2, 3]\n"
     ]
    }
   ],
   "source": [
    "class sorted_Dict:\n",
    "    def __init__(self,Dict) -> None:\n",
    "        self.Dict=Dict\n",
    "    def sort_By_Key(self):\n",
    "        Dict_Sorted=sorted(self.Dict.items())\n",
    "        return Dict_Sorted\n",
    "    def sort_by_value(self):\n",
    "        New_List=[]\n",
    "        New_Dict=list(self.Dict)\n",
    "        for i in New_Dict:\n",
    "            New_List.append(self.Dict[i])\n",
    "        New_List.sort()\n",
    "        return New_List\n",
    "Ansh=sorted_Dict({\"c\":1,\"a\":2,\"b\":3})\n",
    "print(Ansh.sort_By_Key())   \n",
    "print(Ansh.sort_by_value())     "
   ]
  }
 ],
 "metadata": {
  "kernelspec": {
   "display_name": "Python 3 (ipykernel)",
   "language": "python",
   "name": "python3"
  },
  "language_info": {
   "codemirror_mode": {
    "name": "ipython",
    "version": 3
   },
   "file_extension": ".py",
   "mimetype": "text/x-python",
   "name": "python",
   "nbconvert_exporter": "python",
   "pygments_lexer": "ipython3",
   "version": "3.12.1"
  }
 },
 "nbformat": 4,
 "nbformat_minor": 5
}

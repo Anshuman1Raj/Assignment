{
 "cells": [
  {
   "cell_type": "markdown",
   "id": "0fa0f3c8-13bf-4974-ab97-f52352e75531",
   "metadata": {},
   "source": [
    "Question1. Write a function that stutters a word as if someone is struggling to read it. The first two letters are repeated twice with an ellipsis ... and space after each, and then the word is pronounced with a question mark ?.\n",
    "Examples\n",
    "stutter(\"incredible\") ➞ \"in... in... incredible?\"\n",
    "\n",
    "stutter(\"enthusiastic\") ➞ \"en... en... enthusiastic?\"\n",
    "\n",
    "stutter(\"outstanding\") ➞ \"ou... ou... outstanding?\"\n",
    "\n",
    "Hint :- Assume all input is in lower case and at least two characters long.\n"
   ]
  },
  {
   "cell_type": "code",
   "execution_count": 1,
   "id": "1c14c341-f7ab-4e71-af2a-b7085ed3a18c",
   "metadata": {},
   "outputs": [
    {
     "name": "stdout",
     "output_type": "stream",
     "text": [
      "in... in... incredible?\n"
     ]
    }
   ],
   "source": [
    "class Stutter:\n",
    "    def __init__(self,String) -> None:\n",
    "        self.String=String\n",
    "    def get_Stutter(self):\n",
    "        return f\"{self.String[:2]}... {self.String[:2]}... {self.String}?\"    \n",
    "Ansh=Stutter(\"incredible\")\n",
    "print(Ansh.get_Stutter())    "
   ]
  },
  {
   "cell_type": "markdown",
   "id": "3854b58a-ce6c-4d4b-9990-cec6b77161c2",
   "metadata": {},
   "source": [
    "Question 2.Create a function that takes an angle in radians and returns the corresponding angle in degrees rounded to one decimal place.\n",
    "Examples\n",
    "radians_to_degrees(1) ➞ 57.3\n",
    "\n",
    "radians_to_degrees(20) ➞ 1145.9\n",
    "\n",
    "radians_to_degrees(50) ➞ 2864.8\n"
   ]
  },
  {
   "cell_type": "code",
   "execution_count": 2,
   "id": "bed74005-39dd-41ee-81e8-8e556453202a",
   "metadata": {},
   "outputs": [
    {
     "name": "stdout",
     "output_type": "stream",
     "text": [
      "1145.916\n"
     ]
    }
   ],
   "source": [
    "class Radian:\n",
    "    def __init__(self,Radian) -> None:\n",
    "        self.Radian=Radian\n",
    "    def Radian_2_Degree(self):\n",
    "        return self.Radian*57.2958\n",
    "Ansh=Radian(20)\n",
    "print(Ansh.Radian_2_Degree())        "
   ]
  },
  {
   "cell_type": "markdown",
   "id": "e48d8332-f33f-41fc-a254-f11800d4abc9",
   "metadata": {},
   "source": [
    "Question 3. In this challenge, establish if a given integer num is a Curzon number. If 1 plus 2 elevated to num is exactly divisible by 1 plus 2 multiplied by num, then num is a Curzon number.\n",
    "Given a non-negative integer num, implement a function that returns True if num is a Curzon number, or False otherwise.\n",
    "Examples\n",
    "is_curzon(5) ➞ True\n",
    "# 2 ** 5 + 1 = 33\n",
    "# 2 * 5 + 1 = 11\n",
    "# 33 is a multiple of 11\n",
    "\n",
    "is_curzon(10) ➞ False\n",
    "# 2 ** 10 + 1 = 1025\n",
    "# 2 * 10 + 1 = 21\n",
    "# 1025 is not a multiple of 21\n",
    "\n",
    "is_curzon(14) ➞ True\n",
    "# 2 ** 14 + 1 = 16385\n",
    "# 2 * 14 + 1 = 29\n",
    "# 16385 is a multiple of 29\n"
   ]
  },
  {
   "cell_type": "code",
   "execution_count": 3,
   "id": "24915e11-c805-4e99-8ce2-1c0c8b195720",
   "metadata": {},
   "outputs": [
    {
     "name": "stdout",
     "output_type": "stream",
     "text": [
      "True\n"
     ]
    }
   ],
   "source": [
    "class Challenge:\n",
    "    def __init__(self,Number) -> None:\n",
    "        self.Number=Number\n",
    "    def is_curzon(self):\n",
    "        Var1=2**self.Number+1\n",
    "        Var2=2*self.Number+1\n",
    "        if Var1%Var2==0:\n",
    "            return True\n",
    "        else:\n",
    "            return False\n",
    "Ansh=Challenge(14)\n",
    "print(Ansh.is_curzon())        \n"
   ]
  },
  {
   "cell_type": "markdown",
   "id": "87e2eb18-827e-4bab-866f-97652108c6d0",
   "metadata": {},
   "source": [
    "Question 4.Given the side length x find the area of a hexagon.\n",
    " \n",
    "Examples\n",
    "area_of_hexagon(1) ➞ 2.6\n",
    "\n",
    "area_of_hexagon(2) ➞ 10.4\n",
    "\n",
    "area_of_hexagon(3) ➞ 23.4\n"
   ]
  },
  {
   "cell_type": "code",
   "execution_count": 4,
   "id": "ed5c6914-dad3-40fa-9f83-d9534cfbfb7e",
   "metadata": {},
   "outputs": [
    {
     "name": "stdout",
     "output_type": "stream",
     "text": [
      "23.382685902179844\n"
     ]
    }
   ],
   "source": [
    "class Hexagon:\n",
    "    def __init__(self,side) -> None:\n",
    "        self.side=side\n",
    "    def Area(self):\n",
    "        Area=((3*(3**0.5)*(self.side**2))/2)\n",
    "        return Area\n",
    "Ansh=Hexagon(3)\n",
    "print(Ansh.Area())        "
   ]
  },
  {
   "cell_type": "markdown",
   "id": "cc3db662-cc4d-45cf-bc50-6815c10d80d2",
   "metadata": {},
   "source": [
    "Question 5. Create a function that returns a base-2 (binary) representation of a base-10 (decimal) string number. To convert is simple: ((2) means base-2 and (10) means base-10) 010101001(2) = 1 + 8 + 32 + 128.\n",
    "Going from right to left, the value of the most right bit is 1, now from that every bit to the left will be x2 the value, value of an 8 bit binary numbers are (256, 128, 64, 32, 16, 8, 4, 2, 1).\n",
    "Examples\n",
    "binary(1) ➞ \"1\"\n",
    "# 1*1 = 1\n",
    "\n",
    "binary(5) ➞ \"101\"\n",
    "# 1*1 + 1*4 = 5\n",
    "\n",
    "binary(10) ➞ \"1010\"\n",
    "# 1*2 + 1*8 = 10\n"
   ]
  },
  {
   "cell_type": "code",
   "execution_count": 5,
   "id": "0266eca8-6b43-4417-887a-573b2580a349",
   "metadata": {},
   "outputs": [
    {
     "name": "stdout",
     "output_type": "stream",
     "text": [
      "155\n"
     ]
    }
   ],
   "source": [
    "class Binary_to_Decimal:\n",
    "    def __init__(self,Number) -> None:\n",
    "        self.Number=Number\n",
    "    def Converter(self):\n",
    "        Binary=bin(self.Number)[2:]\n",
    "        New_List=[]\n",
    "        for i,element in enumerate(Binary[::-1]):\n",
    "            Decimal= int(element)*(2**i)\n",
    "            New_List.append(Decimal)\n",
    "        return sum(New_List)\n",
    "Ansh=Binary_to_Decimal(155)\n",
    "print(Ansh.Converter())        \n"
   ]
  }
 ],
 "metadata": {
  "kernelspec": {
   "display_name": "Python 3 (ipykernel)",
   "language": "python",
   "name": "python3"
  },
  "language_info": {
   "codemirror_mode": {
    "name": "ipython",
    "version": 3
   },
   "file_extension": ".py",
   "mimetype": "text/x-python",
   "name": "python",
   "nbconvert_exporter": "python",
   "pygments_lexer": "ipython3",
   "version": "3.12.1"
  }
 },
 "nbformat": 4,
 "nbformat_minor": 5
}

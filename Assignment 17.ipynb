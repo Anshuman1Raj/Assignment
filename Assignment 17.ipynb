{
 "cells": [
  {
   "cell_type": "markdown",
   "id": "1182b1e2-4d7d-4427-8830-6e1f7253f275",
   "metadata": {},
   "source": [
    "Question1. Create a function that takes three arguments a, b, c and returns the sum of the numbers that are evenly divided by c from the range a, b inclusive.\n",
    "Examples\n",
    "evenly_divisible(1, 10, 20) ➞ 0\n",
    "# No number between 1 and 10 can be evenly divided by 20.\n",
    "\n",
    "evenly_divisible(1, 10, 2) ➞ 30\n",
    "# 2 + 4 + 6 + 8 + 10 = 30\n",
    "\n",
    "evenly_divisible(1, 10, 3) ➞ 18\n",
    "# 3 + 6 + 9 = 18\n"
   ]
  },
  {
   "cell_type": "code",
   "execution_count": 1,
   "id": "2568e7c1-ee4f-4ef8-bf0e-4a0137f62ba5",
   "metadata": {},
   "outputs": [
    {
     "name": "stdout",
     "output_type": "stream",
     "text": [
      "0\n"
     ]
    }
   ],
   "source": [
    "class Check_Divisor:\n",
    "    def __init__(self,start_range,End_range,Divisor) -> None:\n",
    "        self.start_range=start_range\n",
    "        self.End_range=End_range\n",
    "        self.Divisor=Divisor\n",
    "    def Checker(self):\n",
    "        List=[]\n",
    "        for i in range(self.start_range,self.End_range+1):\n",
    "            if i%self.Divisor==0:\n",
    "                List.append(i)\n",
    "        if List==[]:\n",
    "            return 0\n",
    "        else:\n",
    "            return sum(List)\n",
    "Ansh=Check_Divisor(1,10,20)\n",
    "print(Ansh.Checker())            "
   ]
  },
  {
   "cell_type": "markdown",
   "id": "5693d29b-cc71-4385-beef-a02a11561aad",
   "metadata": {},
   "source": [
    "Question2. Create a function that returns True if a given inequality expression is correct and False otherwise.\n",
    "Examples\n",
    "correct_signs(\"3 < 7 < 11\") ➞ True\n",
    "\n",
    "correct_signs(\"13 > 44 > 33 > 1\") ➞ False\n",
    "\n",
    "correct_signs(\"1 < 2 < 6 < 9 > 3\") ➞ True\n"
   ]
  },
  {
   "cell_type": "code",
   "execution_count": 2,
   "id": "62ac18e7-4d8b-4d2a-98e6-8aa97e6174da",
   "metadata": {},
   "outputs": [
    {
     "name": "stdout",
     "output_type": "stream",
     "text": [
      "False\n"
     ]
    }
   ],
   "source": [
    "class inequality:\n",
    "    def __init__(self,string) -> None:\n",
    "        self.string=string\n",
    "    def Checker(self):\n",
    "        if all(i.isnumeric() or i in \"< >\" for i in self.string):\n",
    "            return eval(self.string)\n",
    "             \n",
    "Ansh=inequality(\"3<4>5\")\n",
    "print(Ansh.Checker())             "
   ]
  },
  {
   "cell_type": "markdown",
   "id": "ce62b113-5154-45f9-9500-7a47d1e4cfdf",
   "metadata": {},
   "source": [
    "Question3. Create a function that replaces all the vowels in a string with a specified character.\n",
    "Examples\n",
    "replace_vowels(\"the aardvark\", \"#\") ➞ \"th# ##rdv#rk\"\n",
    "\n",
    "replace_vowels(\"minnie mouse\", \"?\") ➞ \"m?nn?? m??s?\"\n",
    "\n",
    "replace_vowels(\"shakespeare\", \"*\") ➞ \"sh*k*sp**r*\"\n"
   ]
  },
  {
   "cell_type": "code",
   "execution_count": 3,
   "id": "bbd851e0-d6e9-4bbf-afc9-5b9a64cb9444",
   "metadata": {},
   "outputs": [
    {
     "name": "stdout",
     "output_type": "stream",
     "text": [
      "sh#k#sp##r#\n"
     ]
    }
   ],
   "source": [
    "class Replace_Vowels:\n",
    "    def __init__(self,String) -> None:\n",
    "        self.String=String\n",
    "    def Replacer(self):\n",
    "        New_str=\"\"\n",
    "        for i in self.String:\n",
    "            if i==\"a\" or i==\"e\" or i==\"i\" or i==\"o\" or i==\"u\":\n",
    "                self.String=self.String.replace(i,\"#\")\n",
    "        return self.String        \n",
    "Ansh=Replace_Vowels(\"shakespeare\")\n",
    "print(Ansh.Replacer())                     "
   ]
  },
  {
   "cell_type": "markdown",
   "id": "4abf6566-2666-453d-8d50-8030d9d47e17",
   "metadata": {},
   "source": [
    "Question4. Write a function that calculates the factorial of a number recursively.\n",
    "Examples\n",
    "factorial(5) ➞ 120\n",
    "\n",
    "factorial(3) ➞ 6\n",
    "\n",
    "factorial(1) ➞ 1\n",
    "\n",
    "factorial(0) ➞ 1\n"
   ]
  },
  {
   "cell_type": "code",
   "execution_count": 4,
   "id": "7a6c580b-5ebe-489c-b65c-e8c148b42c84",
   "metadata": {},
   "outputs": [
    {
     "name": "stdout",
     "output_type": "stream",
     "text": [
      "6\n"
     ]
    }
   ],
   "source": [
    "def Factorial(Number):\n",
    "    if Number==0:\n",
    "        return 1\n",
    "    return Number*Factorial(Number-1)\n",
    "Ansh=Factorial(3)\n",
    "print(Ansh)"
   ]
  },
  {
   "cell_type": "markdown",
   "id": "45d67e68-8e6d-455f-bd27-80c330cdefb6",
   "metadata": {},
   "source": [
    "Question 5\n",
    "Hamming distance is the number of characters that differ between two strings.\n",
    "To illustrate:\n",
    "String1: \"abcbba\"\n",
    "String2: \"abcbda\"\n",
    "\n",
    "Hamming Distance: 1 - \"b\" vs. \"d\" is the only difference.\n",
    "Create a function that computes the hamming distance between two strings.\n",
    "Examples\n",
    "hamming_distance(\"abcde\", \"bcdef\") ➞ 5\n",
    "\n",
    "hamming_distance(\"abcde\", \"abcde\") ➞ 0\n",
    "\n",
    "hamming_distance(\"strong\", \"strung\") ➞ 1\n"
   ]
  },
  {
   "cell_type": "code",
   "execution_count": 5,
   "id": "2e3ada37-c3e3-4b88-9c01-14c94186cd59",
   "metadata": {},
   "outputs": [
    {
     "name": "stdout",
     "output_type": "stream",
     "text": [
      "1\n"
     ]
    }
   ],
   "source": [
    "class Hamming_Distance:\n",
    "    def __init__(self,String1,String2) -> None:\n",
    "        self.String1=String1\n",
    "        self.String2=String2\n",
    "    def Finder(self):\n",
    "        Hamming_Distance=0\n",
    "        if len(self.String1)==len(self.String2):\n",
    "            for i in range(len(self.String1)):\n",
    "                if self.String1[i]!=self.String2[i]:\n",
    "                    Hamming_Distance+=1\n",
    "        return Hamming_Distance\n",
    "Ansh=Hamming_Distance(\"strong\",\"strung\") \n",
    "print(Ansh.Finder())                   "
   ]
  }
 ],
 "metadata": {
  "kernelspec": {
   "display_name": "Python 3 (ipykernel)",
   "language": "python",
   "name": "python3"
  },
  "language_info": {
   "codemirror_mode": {
    "name": "ipython",
    "version": 3
   },
   "file_extension": ".py",
   "mimetype": "text/x-python",
   "name": "python",
   "nbconvert_exporter": "python",
   "pygments_lexer": "ipython3",
   "version": "3.12.1"
  }
 },
 "nbformat": 4,
 "nbformat_minor": 5
}

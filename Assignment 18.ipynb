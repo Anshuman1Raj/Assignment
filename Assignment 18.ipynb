{
 "cells": [
  {
   "cell_type": "markdown",
   "id": "56ac5762-a19d-4e56-a3a6-00edbe1d6bbf",
   "metadata": {},
   "source": [
    "Create a function that takes a list of non-negative integers and strings and return a new list without the strings.\n",
    "Examples\n",
    "filter_list([1, 2, \"a\", \"b\"]) ➞ [1, 2]\n",
    "\n",
    "filter_list([1, \"a\", \"b\", 0, 15]) ➞ [1, 0, 15]\n",
    "\n",
    "filter_list([1, 2, \"aasf\", \"1\", \"123\", 123]) ➞ [1, 2, 123]\n"
   ]
  },
  {
   "cell_type": "code",
   "execution_count": 1,
   "id": "9a50cc5c-8450-467c-9f78-2a880680672e",
   "metadata": {},
   "outputs": [
    {
     "name": "stdout",
     "output_type": "stream",
     "text": [
      "[1, 2, 3]\n"
     ]
    }
   ],
   "source": [
    "class Int_Detector:\n",
    "    def __init__(self,List) -> None:\n",
    "        self.List=List\n",
    "    def get_List(self):\n",
    "        new_list=[]\n",
    "        for i in self.List:\n",
    "            if isinstance(i,int):\n",
    "                new_list.append(i)\n",
    "        return new_list        \n",
    "Ansh=Int_Detector([1,\"a\",2,\"s\",3])       \n",
    "print(Ansh.get_List())   "
   ]
  },
  {
   "cell_type": "markdown",
   "id": "b1e10a0a-7828-4f6a-9820-65f5e0be8e21",
   "metadata": {},
   "source": [
    "The \"Reverser\" takes a string as input and returns that string in reverse order, with the opposite case.\n",
    "Examples\n",
    "reverse(\"Hello World\") ➞ \"DLROw OLLEh\"\n",
    "\n",
    "reverse(\"ReVeRsE\") ➞ \"eSrEvEr\"\n",
    "\n",
    "reverse(\"Radar\") ➞ \"RADAr\"\n"
   ]
  },
  {
   "cell_type": "code",
   "execution_count": 2,
   "id": "f68b9c80-3228-499d-b454-ae45bcb16bbf",
   "metadata": {},
   "outputs": [
    {
     "name": "stdout",
     "output_type": "stream",
     "text": [
      "DLROw OLLEh\n"
     ]
    }
   ],
   "source": [
    "class Reverse:\n",
    "    def __init__(self,String) -> None:\n",
    "        self.String=String\n",
    "    def Reverser(self):\n",
    "        return self.String.swapcase()[::-1]\n",
    "Ansh=Reverse(\"Hello World\")\n",
    "print(Ansh.Reverser())    "
   ]
  },
  {
   "cell_type": "markdown",
   "id": "0c57ddea-43c2-4e9b-83f4-b2c9a0607db8",
   "metadata": {},
   "source": [
    "You can assign variables from lists like this:\n",
    "lst = [1, 2, 3, 4, 5, 6]\n",
    "first = lst[0]\n",
    "middle = lst[1:-1]\n",
    "last = lst[-1]\n",
    "\n",
    "print(first) ➞ outputs 1\n",
    "print(middle) ➞ outputs [2, 3, 4, 5]\n",
    "print(last) ➞ outputs 6\n",
    "With Python 3, you can assign variables from lists in a much more succinct way. Create variables first, middle and last from the given list using destructuring assignment (check the Resources tab for some examples), where:\n",
    "first  ➞ 1\n",
    "\n",
    "middle ➞ [2, 3, 4, 5]\n",
    "\n",
    "last ➞ 6\n",
    "Your task is to unpack the list writeyourcodehere into three variables, being first, middle, and last, with middle being everything in between the first and last element. Then print all three variables.\n"
   ]
  },
  {
   "cell_type": "code",
   "execution_count": 3,
   "id": "123c17c5-9756-4b3b-87c1-2e23d472d431",
   "metadata": {},
   "outputs": [
    {
     "name": "stdout",
     "output_type": "stream",
     "text": [
      "(First_Element=1 , Second_Element=[2, 3, 4, 5] , Last_Element=6 )\n"
     ]
    }
   ],
   "source": [
    "class Element_Extractor:\n",
    "    def __init__(self,List) -> None:\n",
    "        self.List=List\n",
    "    def Extract(self):\n",
    "        First_Element=self.List[0]    \n",
    "        Middle_Element=self.List[1:-1]    \n",
    "        Last_Element=self.List[-1]    \n",
    "        return f\"(First_Element={First_Element} , Second_Element={Middle_Element} , Last_Element={Last_Element} )\"\n",
    "\n",
    "Ansh=Element_Extractor([1,2,3,4,5,6])\n",
    "print(Ansh.Extract())    "
   ]
  },
  {
   "cell_type": "markdown",
   "id": "420f6327-4f5b-4f55-9214-d997649676d8",
   "metadata": {},
   "source": [
    "Write a function that calculates the factorial of a number recursively.\n",
    "Examples\n",
    "factorial(5) ➞ 120\n",
    "\n",
    "factorial(3) ➞ 6\n",
    "\n",
    "factorial(1) ➞ 1\n",
    "\n",
    "factorial(0) ➞ 1\n"
   ]
  },
  {
   "cell_type": "code",
   "execution_count": 4,
   "id": "c6d1cbec-5b0e-4f69-9e2f-6316ac8cfa0c",
   "metadata": {},
   "outputs": [
    {
     "name": "stdout",
     "output_type": "stream",
     "text": [
      "120\n"
     ]
    }
   ],
   "source": [
    "def Factorial(Number):\n",
    "    if Number==0:\n",
    "        return 1\n",
    "    return Number * Factorial(Number-1)\n",
    "Ansh=Factorial(5)\n",
    "print(Ansh)\n",
    "\n"
   ]
  },
  {
   "cell_type": "markdown",
   "id": "ee370957-67f7-4aa9-9906-3b99e80edea1",
   "metadata": {},
   "source": [
    "Write a function that moves all elements of one type to the end of the list.\n",
    "Examples\n",
    "move_to_end([1, 3, 2, 4, 4, 1], 1) ➞ [3, 2, 4, 4, 1, 1]\n",
    "# Move all the 1s to the end of the array.\n",
    "\n",
    "move_to_end([7, 8, 9, 1, 2, 3, 4], 9) ➞ [7, 8, 1, 2, 3, 4, 9]\n",
    "\n",
    "move_to_end([\"a\", \"a\", \"a\", \"b\"], \"a\") ➞ [\"b\", \"a\", \"a\", \"a\"]\n"
   ]
  },
  {
   "cell_type": "code",
   "execution_count": 5,
   "id": "a9a09d15-d9bf-4e82-9a6f-431b537aa338",
   "metadata": {},
   "outputs": [
    {
     "name": "stdout",
     "output_type": "stream",
     "text": [
      "[2, 3, 4, 1, 1]\n"
     ]
    }
   ],
   "source": [
    "class Same_Elements:\n",
    "    def __init__(self,List,Number) -> None:\n",
    "        self.List=List\n",
    "        self.Number=Number\n",
    "    def Move_2_End(self):\n",
    "        for i,num in enumerate(self.List):\n",
    "            if num==self.Number:\n",
    "                self.List.append(num)\n",
    "                self.List.pop(i)\n",
    "        return self.List\n",
    "Ansh=Same_Elements([1,2,1,3,4],1)\n",
    "print(Ansh.Move_2_End())            "
   ]
  }
 ],
 "metadata": {
  "kernelspec": {
   "display_name": "Python 3 (ipykernel)",
   "language": "python",
   "name": "python3"
  },
  "language_info": {
   "codemirror_mode": {
    "name": "ipython",
    "version": 3
   },
   "file_extension": ".py",
   "mimetype": "text/x-python",
   "name": "python",
   "nbconvert_exporter": "python",
   "pygments_lexer": "ipython3",
   "version": "3.12.1"
  }
 },
 "nbformat": 4,
 "nbformat_minor": 5
}

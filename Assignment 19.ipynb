{
 "cells": [
  {
   "cell_type": "markdown",
   "id": "6afe217a-c662-4bf9-b0cb-240a4527bb5b",
   "metadata": {},
   "source": [
    "Create a function that takes a string and returns a string in which each character is repeated once.\n",
    "Examples\n",
    "double_char(\"String\") ➞ \"SSttrriinngg\"\n",
    "\n",
    "double_char(\"Hello World!\") ➞ \"HHeelllloo  WWoorrlldd!!\"\n",
    "\n",
    "double_char(\"1234!_ \") ➞ \"11223344!!__  \"\n"
   ]
  },
  {
   "cell_type": "code",
   "execution_count": 1,
   "id": "08672266-3610-4046-a065-7a5694e9a741",
   "metadata": {},
   "outputs": [
    {
     "name": "stdout",
     "output_type": "stream",
     "text": [
      "SSoonnaall\n"
     ]
    }
   ],
   "source": [
    "class Double_String:\n",
    "    def __init__(self,string) -> None:\n",
    "        self.string=string\n",
    "    def get(self):\n",
    "        New_string=\"\"\n",
    "        for i in self.string:\n",
    "            New_string+=i+i\n",
    "        return New_string\n",
    "Ansh=Double_String(\"Sonal\")\n",
    "print(Ansh.get())            "
   ]
  },
  {
   "cell_type": "markdown",
   "id": "a4a84216-a25e-41cc-b0b2-da4c602e9206",
   "metadata": {},
   "source": [
    "Create a function that reverses a boolean value and returns the string \"boolean expected\" if another variable type is given.\n",
    "Examples\n",
    "reverse(True) ➞ False\n",
    "\n",
    "reverse(False) ➞ True\n",
    "\n",
    "reverse(0) ➞ \"boolean expected\"\n",
    "\n",
    "reverse(None) ➞ \"boolean expected\"\n"
   ]
  },
  {
   "cell_type": "code",
   "execution_count": 2,
   "id": "bdcb41cf-bc66-4b07-acfb-2f03aaaff3d8",
   "metadata": {},
   "outputs": [
    {
     "name": "stdout",
     "output_type": "stream",
     "text": [
      "Boolean Expected\n"
     ]
    }
   ],
   "source": [
    "class Boolean_Detector:\n",
    "    def __init__(self,string) -> None:\n",
    "        self.string=string\n",
    "    def Detetctor(self):\n",
    "        Result=\"\"\n",
    "        if self.string==\"True\":\n",
    "            Result=\"False\"\n",
    "        elif self.string==\"False\":    \n",
    "            Result=\"True\"\n",
    "        else:\n",
    "            Result=\"Boolean Expected\"\n",
    "        return Result\n",
    "Ansh=Boolean_Detector(\"652\")\n",
    "print(Ansh.Detetctor())                "
   ]
  },
  {
   "cell_type": "markdown",
   "id": "4f701963-8f91-45cf-96f7-ebf8209c7218",
   "metadata": {},
   "source": [
    "Create a function that returns the thickness (in meters) of a piece of paper after folding it n number of times. The paper starts off with a thickness of 0.5mm.\n",
    "Examples\n",
    "num_layers(1) ➞ \"0.001m\"\n",
    "# Paper folded once is 1mm (equal to 0.001m)\n",
    "\n",
    "num_layers(4) ➞ \"0.008m\"\n",
    "# Paper folded 4 times is 8mm (equal to 0.008m)\n",
    "\n",
    "num_layers(21) ➞ \"1048.576m\"\n",
    "# Paper folded 21 times is 1048576mm (equal to 1048.576m)\n"
   ]
  },
  {
   "cell_type": "code",
   "execution_count": 3,
   "id": "926734f7-d1af-4fad-882d-753677aed745",
   "metadata": {},
   "outputs": [
    {
     "name": "stdout",
     "output_type": "stream",
     "text": [
      "1048.576\n"
     ]
    }
   ],
   "source": [
    "class Thickness:\n",
    "    def __init__(self,Fold) -> None:\n",
    "        self.Fold=Fold\n",
    "    def Folder(self):\n",
    "        thickness=0.5*10**(-3)\n",
    "        for i in range(1,self.Fold+1):\n",
    "            thickness*=2\n",
    "        return thickness\n",
    "Ansh=Thickness(21)\n",
    "print(Ansh.Folder())            "
   ]
  },
  {
   "cell_type": "markdown",
   "id": "f918f74b-6371-4714-a2aa-7b3105f1cedd",
   "metadata": {},
   "source": [
    "Create a function that takes a single string as argument and returns an ordered list containing the indices of all capital letters in the string.\n",
    "Examples\n",
    "index_of_caps(\"eDaBiT\") ➞ [1, 3, 5]\n",
    "\n",
    "index_of_caps(\"eQuINoX\") ➞ [1, 3, 4, 6]\n",
    "\n",
    "index_of_caps(\"determine\") ➞ []\n",
    "\n",
    "index_of_caps(\"STRIKE\") ➞ [0, 1, 2, 3, 4, 5]\n",
    "\n",
    "index_of_caps(\"sUn\") ➞ [1]\n"
   ]
  },
  {
   "cell_type": "code",
   "execution_count": 4,
   "id": "72494ed0-6a46-454c-9c7c-7abc3c2a1b18",
   "metadata": {},
   "outputs": [
    {
     "name": "stdout",
     "output_type": "stream",
     "text": [
      "[1, 3, 5]\n"
     ]
    }
   ],
   "source": [
    "class Capital:\n",
    "    def __init__(self,string) -> None:\n",
    "        self.string=string\n",
    "    def Index(self):\n",
    "        List=[]\n",
    "        for i,letter in enumerate(self.string):\n",
    "            if letter==letter.upper():\n",
    "                List.append(i)\n",
    "        return List\n",
    "Ansh=Capital(\"eDaBiT\")           \n",
    "print(Ansh.Index()) "
   ]
  },
  {
   "cell_type": "markdown",
   "id": "5fe852ab-7d12-4167-8887-78550a62e5fc",
   "metadata": {},
   "source": [
    "Using list comprehensions, create a function that finds all even numbers from 1 to the given number.\n",
    "Examples\n",
    "find_even_nums(8) ➞ [2, 4, 6, 8]\n",
    "\n",
    "find_even_nums(4) ➞ [2, 4]\n",
    "\n",
    "find_even_nums(2) ➞ [2]\n"
   ]
  },
  {
   "cell_type": "code",
   "execution_count": 5,
   "id": "8495e356-7c63-4e75-a020-c1164e798410",
   "metadata": {},
   "outputs": [
    {
     "name": "stdout",
     "output_type": "stream",
     "text": [
      "[2]\n"
     ]
    }
   ],
   "source": [
    "class List_Comprehension:\n",
    "    def __init__(self,Number) -> None:\n",
    "        self.Number=Number\n",
    "    def get_Even(self):\n",
    "        Result=[i for i in range(1,self.Number+1) if i%2==0]\n",
    "        return Result\n",
    "Ansh=List_Comprehension(2)\n",
    "print(Ansh.get_Even())    "
   ]
  }
 ],
 "metadata": {
  "kernelspec": {
   "display_name": "Python 3 (ipykernel)",
   "language": "python",
   "name": "python3"
  },
  "language_info": {
   "codemirror_mode": {
    "name": "ipython",
    "version": 3
   },
   "file_extension": ".py",
   "mimetype": "text/x-python",
   "name": "python",
   "nbconvert_exporter": "python",
   "pygments_lexer": "ipython3",
   "version": "3.12.1"
  }
 },
 "nbformat": 4,
 "nbformat_minor": 5
}

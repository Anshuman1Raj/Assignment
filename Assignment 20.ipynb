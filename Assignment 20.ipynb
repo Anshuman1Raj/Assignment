{
 "cells": [
  {
   "cell_type": "markdown",
   "id": "15079bb2-06fe-4b17-9c6c-54743dbb5f74",
   "metadata": {},
   "source": [
    "Create a function that takes a list of strings and integers, and filters out the list so that it returns a list of integers only.\n",
    "Examples\n",
    "filter_list([1, 2, 3, \"a\", \"b\", 4]) ➞ [1, 2, 3, 4]\n",
    "\n",
    "filter_list([\"A\", 0, \"Edabit\", 1729, \"Python\", \"1729\"]) ➞ [0, 1729]\n",
    "\n",
    "filter_list([\"Nothing\", \"here\"]) ➞ []\n"
   ]
  },
  {
   "cell_type": "code",
   "execution_count": 1,
   "id": "70936440-5266-4935-bb60-3d173c138912",
   "metadata": {},
   "outputs": [
    {
     "name": "stdout",
     "output_type": "stream",
     "text": [
      "[1, 2, 4]\n"
     ]
    }
   ],
   "source": [
    "class Return_Numeric:\n",
    "    def __init__(self,list) -> None:\n",
    "        self.list=list\n",
    "    def get_list(self):\n",
    "        New_list=[]\n",
    "        for i in self.list:\n",
    "            if isinstance(i,int):\n",
    "                New_list.append(i)\n",
    "        return New_list\n",
    "Ansh=Return_Numeric([1,2,\"sonal\",\"Ansh\",4])\n",
    "print(Ansh.get_list())            \n",
    "    "
   ]
  },
  {
   "cell_type": "markdown",
   "id": "ec1e5b7a-801d-4611-a2d9-f2903c41a262",
   "metadata": {},
   "source": [
    "Given a list of numbers, create a function which returns the list but with each element's index in the list added to itself. This means you add 0 to the number at index 0, add 1 to the number at index 1, etc...\n",
    "Examples\n",
    "add_indexes([0, 0, 0, 0, 0]) ➞ [0, 1, 2, 3, 4]\n",
    "\n",
    "add_indexes([1, 2, 3, 4, 5]) ➞ [1, 3, 5, 7, 9]\n",
    "\n",
    "add_indexes([5, 4, 3, 2, 1]) ➞ [5, 5, 5, 5, 5]\n"
   ]
  },
  {
   "cell_type": "code",
   "execution_count": 2,
   "id": "fd0188b7-6cd8-4bc7-bdcc-dfbfa308613d",
   "metadata": {},
   "outputs": [
    {
     "name": "stdout",
     "output_type": "stream",
     "text": [
      "[1, 3, 5, 7, 9]\n"
     ]
    }
   ],
   "source": [
    "class List_return:\n",
    "    def __init__(self,list) -> None:\n",
    "        self.list=list\n",
    "    def get_list(self):\n",
    "        New_list=[]\n",
    "        for i,num in enumerate(self.list):    \n",
    "            New_list.append(num+i)\n",
    "        return New_list\n",
    "Ansh=List_return([1,2,3,4,5])\n",
    "print(Ansh.get_list())        "
   ]
  },
  {
   "cell_type": "markdown",
   "id": "b766a9d3-3e86-41a0-92f2-a18e284e9052",
   "metadata": {},
   "source": [
    "Create a function that takes the height and radius of a cone as arguments and returns the volume of the cone rounded to the nearest hundredth. See the resources tab for the formula.\n",
    " \n",
    "Examples\n",
    "cone_volume(3, 2) ➞ 12.57\n",
    "\n",
    "cone_volume(15, 6) ➞ 565.49\n",
    "\n",
    "cone_volume(18, 0) ➞ 0\n"
   ]
  },
  {
   "cell_type": "code",
   "execution_count": 3,
   "id": "78f2ee45-2c03-4237-b08f-716cb7166c1d",
   "metadata": {},
   "outputs": [
    {
     "name": "stdout",
     "output_type": "stream",
     "text": [
      "0.0\n"
     ]
    }
   ],
   "source": [
    "class Cone:\n",
    "    def __init__(self,Height,Radius) -> None:\n",
    "        self.Height=Height\n",
    "        self.Radius=Radius\n",
    "    def Volume(self):\n",
    "        return (1/3)*3.141*(self.Radius**2)*(self.Height)\n",
    "Ansh=Cone(18,0)\n",
    "print(Ansh.Volume())     "
   ]
  },
  {
   "cell_type": "markdown",
   "id": "f901cbe0-f092-4a01-901b-665c5f0ed9ed",
   "metadata": {},
   "source": [
    "This Triangular Number Sequence is generated from a pattern of dots that form a triangle. The first 5 numbers of the sequence, or dots, are: \n",
    "1, 3, 6, 10, 15\n",
    "This means that the first triangle has just one dot, the second one has three dots, the third one has 6 dots and so on.\n",
    "Write a function that gives the number of dots with its corresponding triangle number of the sequence.\n",
    "Examples\n",
    "triangle(1) ➞ 1\n",
    "\n",
    "triangle(6) ➞ 21\n",
    "\n",
    "triangle(215) ➞ 23220\n"
   ]
  },
  {
   "cell_type": "code",
   "execution_count": 4,
   "id": "cd478e82-d14d-4010-8b97-c3f53c604d19",
   "metadata": {},
   "outputs": [
    {
     "name": "stdout",
     "output_type": "stream",
     "text": [
      "23220\n"
     ]
    }
   ],
   "source": [
    "class Triangle:\n",
    "    def __init__(self,sequence) -> None:\n",
    "        self.sequence=sequence\n",
    "    def No_of_Dots(self):\n",
    "        return ((self.sequence)*(self.sequence+1))//2\n",
    "Ansh=Triangle(215)\n",
    "print(Ansh.No_of_Dots())                     "
   ]
  },
  {
   "cell_type": "markdown",
   "id": "8b5b80b1-847b-44af-81fc-90a0e77ffe11",
   "metadata": {},
   "source": [
    "Create a function that takes a list of numbers between 1 and 10 (excluding one number) and returns the missing number.\n",
    "Examples\n",
    "missing_num([1, 2, 3, 4, 6, 7, 8, 9, 10]) ➞ 5\n",
    "\n",
    "missing_num([7, 2, 3, 6, 5, 9, 1, 4, 8]) ➞ 10\n",
    "\n",
    "missing_num([10, 5, 1, 2, 4, 6, 8, 3, 9]) ➞ 7\n"
   ]
  },
  {
   "cell_type": "code",
   "execution_count": 5,
   "id": "d2618fd2-3a14-4e5f-bdcd-87264d56001b",
   "metadata": {},
   "outputs": [
    {
     "name": "stdout",
     "output_type": "stream",
     "text": [
      "5\n"
     ]
    }
   ],
   "source": [
    "class Missing_word:\n",
    "    def __init__(self,List) -> None:\n",
    "        self.List=List\n",
    "    def Finder(self):\n",
    "        self.List.sort()\n",
    "        for i,element in enumerate(self.List):\n",
    "            if i+1!=element:\n",
    "                print(i+1)\n",
    "                break\n",
    "Ansh=Missing_word([1, 2, 3, 4, 6, 7, 8, 9, 10]) \n",
    "Ansh.Finder()        \n",
    "                "
   ]
  }
 ],
 "metadata": {
  "kernelspec": {
   "display_name": "Python 3 (ipykernel)",
   "language": "python",
   "name": "python3"
  },
  "language_info": {
   "codemirror_mode": {
    "name": "ipython",
    "version": 3
   },
   "file_extension": ".py",
   "mimetype": "text/x-python",
   "name": "python",
   "nbconvert_exporter": "python",
   "pygments_lexer": "ipython3",
   "version": "3.12.1"
  }
 },
 "nbformat": 4,
 "nbformat_minor": 5
}

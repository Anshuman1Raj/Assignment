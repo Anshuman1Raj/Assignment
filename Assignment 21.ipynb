{
 "cells": [
  {
   "cell_type": "markdown",
   "id": "57441ebd-f5d8-4b99-b1d6-b4ccad47446a",
   "metadata": {},
   "source": [
    "Write a function that takes a list and a number as arguments. Add the number to the end of the list, then remove the first element of the list. The function should then return the updated list.\n",
    "Examples\n",
    "next_in_line([5, 6, 7, 8, 9], 1) ➞ [6, 7, 8, 9, 1]\n",
    "\n",
    "next_in_line([7, 6, 3, 23, 17], 10) ➞ [6, 3, 23, 17, 10]\n",
    "\n",
    "next_in_line([1, 10, 20, 42 ], 6) ➞ [10, 20, 42, 6]\n",
    "\n",
    "next_in_line([], 6) ➞ \"No list has been selected\"\n"
   ]
  },
  {
   "cell_type": "code",
   "execution_count": 1,
   "id": "4d533043-b1a8-47ff-8177-d2d0216fe938",
   "metadata": {},
   "outputs": [
    {
     "name": "stdout",
     "output_type": "stream",
     "text": [
      "No list has been selected\n"
     ]
    }
   ],
   "source": [
    "class Add_Remove:\n",
    "    def __init__(self,list,element) -> None:\n",
    "        self.list=list\n",
    "        self.element=element\n",
    "    def executer(self):\n",
    "        if self.list==[]:\n",
    "            return \"No list has been selected\"\n",
    "        else:\n",
    "            self.list.append(self.element)\n",
    "            self.list.pop(0)\n",
    "        return self.list\n",
    "Ansh=Add_Remove([],1)    \n",
    "print(Ansh.executer())    "
   ]
  },
  {
   "cell_type": "markdown",
   "id": "2208e1bb-9662-4da5-add1-2bad059bb5ce",
   "metadata": {},
   "source": [
    "Create the function that takes a list of dictionaries and returns the sum of people's budgets.\n",
    "Examples\n",
    "get_budgets([\n",
    "  { \"name\": \"John\", \"age\": 21, \"budget\": 23000 },\n",
    "  { \"name\": \"Steve\",  \"age\": 32, \"budget\": 40000 },\n",
    "  { \"name\": \"Martin\",  \"age\": 16, \"budget\": 2700 }\n",
    "]) ➞ 65700\n",
    "\n",
    "get_budgets([\n",
    "  { \"name\": \"John\",  \"age\": 21, \"budget\": 29000 },\n",
    "  { \"name\": \"Steve\",  \"age\": 32, \"budget\": 32000 },\n",
    "  { \"name\": \"Martin\",  \"age\": 16, \"budget\": 1600 }\n",
    "]) ➞ 62600\n"
   ]
  },
  {
   "cell_type": "code",
   "execution_count": 2,
   "id": "9e397239-e314-4eb8-947f-ad1d433138b5",
   "metadata": {},
   "outputs": [
    {
     "name": "stdout",
     "output_type": "stream",
     "text": [
      "65700\n"
     ]
    }
   ],
   "source": [
    "class Budget:\n",
    "    def __init__(self,list) -> None:\n",
    "        self.list=list\n",
    "    def get_Budget(self):\n",
    "        Overall_Budget=0\n",
    "        for i in range(len(self.list)):\n",
    "            Overall_Budget+=self.list[i][\"budget\"]\n",
    "        return Overall_Budget\n",
    "Ansh=Budget([\n",
    "  { \"name\": \"John\", \"age\": 21, \"budget\": 23000 },\n",
    "  { \"name\": \"Steve\",  \"age\": 32, \"budget\": 40000 },\n",
    "  { \"name\": \"Martin\",  \"age\": 16, \"budget\": 2700 }\n",
    "]) \n",
    "print(Ansh.get_Budget())        "
   ]
  },
  {
   "cell_type": "markdown",
   "id": "7a2a184a-6fc0-4a87-8511-cbdad277effc",
   "metadata": {},
   "source": [
    "Create a function that takes a string and returns a string with its letters in alphabetical order.\n",
    "Examples\n",
    "alphabet_soup(\"hello\") ➞ \"ehllo\"\n",
    "\n",
    "alphabet_soup(\"edabit\") ➞ \"abdeit\"\n",
    "\n",
    "alphabet_soup(\"hacker\") ➞ \"acehkr\"\n",
    "\n",
    "alphabet_soup(\"geek\") ➞ \"eegk\"\n",
    "\n",
    "alphabet_soup(\"javascript\") ➞ \"aacijprstv\"\n"
   ]
  },
  {
   "cell_type": "code",
   "execution_count": 3,
   "id": "f38bcf53-09e3-4f3d-8b52-a56bde646172",
   "metadata": {},
   "outputs": [
    {
     "name": "stdout",
     "output_type": "stream",
     "text": [
      "acehkr\n"
     ]
    }
   ],
   "source": [
    "class Aplhabet_order:\n",
    "    def __init__(self,string) -> None:\n",
    "        self.string=string\n",
    "    def get(self):\n",
    "        self.string=([*self.string])    \n",
    "        self.string.sort()\n",
    "        return \"\".join(self.string)\n",
    "Ansh=Aplhabet_order(\"hacker\")\n",
    "print(Ansh.get())    "
   ]
  },
  {
   "cell_type": "markdown",
   "id": "ee536aaa-0826-4b01-946f-f5ee7c830b02",
   "metadata": {},
   "source": [
    "Suppose that you invest $10,000 for 10 years at an interest rate of 6% compounded monthly. What will be the value of your investment at the end of the 10 year period?\n",
    "Create a function that accepts the principal p, the term in years t, the interest rate r, and the number of compounding periods per year n. The function returns the value at the end of term rounded to the nearest cent.\n",
    "For the example above:\n",
    "compound_interest(10000, 10, 0.06, 12) ➞ 18193.97\n",
    "Note that the interest rate is given as a decimal and n=12 because with monthly compounding there are 12 periods per year. Compounding can also be done annually, quarterly, weekly, or daily.\n"
   ]
  },
  {
   "cell_type": "code",
   "execution_count": 4,
   "id": "95993cde-f8e4-4e0a-940a-a74a31254ffc",
   "metadata": {},
   "outputs": [
    {
     "name": "stdout",
     "output_type": "stream",
     "text": [
      "18193.97\n"
     ]
    }
   ],
   "source": [
    "class Compound_Intrest:\n",
    "    def __init__(self,Principal,Intrest_Rate,Number_of_times_in_Year,Time_Duration) -> None:\n",
    "        self.Principal=Principal\n",
    "        self.Intrest_Rate=Intrest_Rate\n",
    "        self.Number_of_times_in_Year=Number_of_times_in_Year\n",
    "        self.Time_Duration=Time_Duration\n",
    "    def Calculator(self):\n",
    "        interest_per_period = self.Intrest_Rate / self.Number_of_times_in_Year\n",
    "\n",
    "        total_periods = self.Time_Duration * self.Number_of_times_in_Year\n",
    "\n",
    "        amount = self.Principal * (1 + interest_per_period) ** total_periods\n",
    "        return round(amount,2)\n",
    "  \n",
    "\n",
    "Ansh=Compound_Intrest(10000,0.06,12,10)    \n",
    "print(Ansh.Calculator()) "
   ]
  },
  {
   "cell_type": "markdown",
   "id": "9177dc31-dc2f-4596-874f-01831487347c",
   "metadata": {},
   "source": [
    "Write a function that takes a list of elements and returns only the integers.\n",
    "Examples\n",
    "return_only_integer([9, 2, \"space\", \"car\", \"lion\", 16]) ➞ [9, 2, 16]\n",
    "\n",
    "return_only_integer([\"hello\", 81, \"basketball\", 123, \"fox\"]) ➞ [81, 123]\n",
    "\n",
    "return_only_integer([10, \"121\", 56, 20, \"car\", 3, \"lion\"]) ➞ [10, 56, 20, 3]\n",
    "\n",
    "return_only_integer([\"String\",  True,  3.3,  1]) ➞ [1]\n",
    "\n"
   ]
  },
  {
   "cell_type": "code",
   "execution_count": 5,
   "id": "b6231249-2753-43d7-8fd1-a36d79f39604",
   "metadata": {},
   "outputs": [
    {
     "name": "stdout",
     "output_type": "stream",
     "text": [
      "[1, 2, 4]\n"
     ]
    }
   ],
   "source": [
    "class Return_Numeric:\n",
    "    def __init__(self,list) -> None:\n",
    "        self.list=list\n",
    "    def get_list(self):\n",
    "        New_list=[]\n",
    "        for i in self.list:\n",
    "            if isinstance(i,int):\n",
    "                New_list.append(i)\n",
    "        return New_list\n",
    "Ansh=Return_Numeric([1,2,\"sonal\",\"Ansh\",4])\n",
    "print(Ansh.get_list())            \n",
    "    "
   ]
  }
 ],
 "metadata": {
  "kernelspec": {
   "display_name": "Python 3 (ipykernel)",
   "language": "python",
   "name": "python3"
  },
  "language_info": {
   "codemirror_mode": {
    "name": "ipython",
    "version": 3
   },
   "file_extension": ".py",
   "mimetype": "text/x-python",
   "name": "python",
   "nbconvert_exporter": "python",
   "pygments_lexer": "ipython3",
   "version": "3.12.1"
  }
 },
 "nbformat": 4,
 "nbformat_minor": 5
}

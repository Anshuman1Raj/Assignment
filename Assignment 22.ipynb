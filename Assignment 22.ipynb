{
 "cells": [
  {
   "cell_type": "markdown",
   "id": "88ef7002-a2b6-4eb0-be2e-543ed0d5b8c7",
   "metadata": {},
   "source": [
    "Create a function that takes three parameters where:\n",
    "•\tx is the start of the range (inclusive).\n",
    "•\ty is the end of the range (inclusive).\n",
    "•\tn is the divisor to be checked against.\n",
    "Return an ordered list with numbers in the range that are divisible by the third parameter n. Return an empty list if there are no numbers that are divisible by n.\n",
    "Examples\n",
    "list_operation(1, 10, 3) ➞ [3, 6, 9]\n",
    "\n",
    "list_operation(7, 9, 2) ➞ [8]\n",
    "\n",
    "list_operation(15, 20, 7) ➞ []\n"
   ]
  },
  {
   "cell_type": "code",
   "execution_count": 1,
   "id": "96838da3-6172-40f2-a893-e53c61b35191",
   "metadata": {},
   "outputs": [
    {
     "name": "stdout",
     "output_type": "stream",
     "text": [
      "[15, 20]\n"
     ]
    }
   ],
   "source": [
    "class Check_Divisor:\n",
    "    def __init__(self,x,y,n) -> None:\n",
    "        self.x=x\n",
    "        self.y=y\n",
    "        self.n=n\n",
    "    def checker(self):\n",
    "        New_List=[]\n",
    "        for i in range(self.x,self.y+1):\n",
    "            if i%self.n==0:\n",
    "                New_List.append(i)\n",
    "        return New_List\n",
    "Ansh=Check_Divisor(15,20,5)\n",
    "print(Ansh.checker())            "
   ]
  },
  {
   "cell_type": "markdown",
   "id": "aa156988-9643-41aa-a6d3-fc1745910e50",
   "metadata": {},
   "source": [
    "Create a function that takes in two lists and returns True if the second list follows the first list by one element, and False otherwise. In other words, determine if the second list is the first list shifted to the right by 1.\n",
    "Examples\n",
    "simon_says([1, 2], [5, 1]) ➞ True\n",
    "\n",
    "simon_says([1, 2], [5, 5]) ➞ False\n",
    "\n",
    "simon_says([1, 2, 3, 4, 5], [0, 1, 2, 3, 4]) ➞ True\n",
    "\n",
    "simon_says([1, 2, 3, 4, 5], [5, 5, 1, 2, 3]) ➞ False\n",
    "Notes\n",
    "•\tBoth input lists will be of the same length, and will have a minimum length of 2.\n",
    "•\tThe values of the 0-indexed element in the second list and the n-1th indexed element in the first list do not matter.\n"
   ]
  },
  {
   "cell_type": "code",
   "execution_count": 2,
   "id": "f2c9d3a4-56b2-42d2-b823-8a55d6a88c00",
   "metadata": {},
   "outputs": [
    {
     "name": "stdout",
     "output_type": "stream",
     "text": [
      "False\n"
     ]
    }
   ],
   "source": [
    "class Two_List:\n",
    "    def __init__(self,List1,List2) -> None:\n",
    "        self.List1=List1\n",
    "        self.List2=List2\n",
    "    def checker(self):\n",
    "        \n",
    "        if len(self.List1)==len(self.List2):\n",
    "            for i in range(len(self.List1)-1):\n",
    "                if self.List1[i]==self.List2[i+1]:\n",
    "                    return True\n",
    "                else:\n",
    "                    return False\n",
    "        else:\n",
    "            return False\n",
    "Ansh=Two_List([1,2,3,4,5],[5,5,1,2,3])\n",
    "print(Ansh.checker())                    "
   ]
  },
  {
   "cell_type": "markdown",
   "id": "967fcdc6-bedb-4934-a18e-67f84bd782e5",
   "metadata": {},
   "source": [
    "A group of friends have decided to start a secret society. The name will be the first letter of each of their names, sorted in alphabetical order.\n",
    "Create a function that takes in a list of names and returns the name of the secret society.\n",
    "Examples\n",
    "society_name([\"Adam\", \"Sarah\", \"Malcolm\"]) ➞ \"AMS\"\n",
    "\n",
    "society_name([\"Harry\", \"Newt\", \"Luna\", \"Cho\"]) ➞ \"CHLN\"\n",
    "\n",
    "society_name([\"Phoebe\", \"Chandler\", \"Rachel\", \"Ross\", \"Monica\", \"Joey\"])\n"
   ]
  },
  {
   "cell_type": "code",
   "execution_count": 3,
   "id": "fbc2cbec-4343-4d8f-a135-017d7d1c0f74",
   "metadata": {},
   "outputs": [
    {
     "name": "stdout",
     "output_type": "stream",
     "text": [
      "ASM\n"
     ]
    }
   ],
   "source": [
    "class Secret_Society:\n",
    "    def __init__(self,list) -> None:\n",
    "        self.list=list\n",
    "    def Secret_Name(self):\n",
    "        New_str=\"\"\n",
    "        for i in range(len(self.list)):\n",
    "            New_str+=self.list[i][0]\n",
    "        return New_str\n",
    "Ansh=Secret_Society([\"Adam\",\"Sarah\",\"Malcom\"])\n",
    "print(Ansh.Secret_Name())        "
   ]
  },
  {
   "cell_type": "markdown",
   "id": "0f6b835f-2627-453a-ba65-cfadcaf16816",
   "metadata": {},
   "source": [
    "An isogram is a word that has no duplicate letters. Create a function that takes a string and returns either True or False depending on whether or not it's an \"isogram\".\n",
    "Examples\n",
    "is_isogram(\"Algorism\") ➞ True\n",
    "\n",
    "is_isogram(\"PasSword\") ➞ False\n",
    "# Not case sensitive.\n",
    "\n",
    "is_isogram(\"Consecutive\") ➞ False\n",
    "Notes\n",
    "•\tIgnore letter case (should not be case sensitive).\n",
    "•\tAll test cases contain valid one word strings.\n"
   ]
  },
  {
   "cell_type": "code",
   "execution_count": 4,
   "id": "cd1a0cf1-1498-452d-a4ee-6a1d94a2add9",
   "metadata": {},
   "outputs": [
    {
     "name": "stdout",
     "output_type": "stream",
     "text": [
      "False\n"
     ]
    }
   ],
   "source": [
    "class isogram:\n",
    "    def __init__(self,str) -> None:\n",
    "        self.str=str\n",
    "    def Checker(self):\n",
    "        self.str=self.str.lower()\n",
    "        res=True\n",
    "        List=[]\n",
    "        for i in self.str:\n",
    "            if i in List:\n",
    "                res=False\n",
    "\n",
    "            else:\n",
    "                List.append(i)\n",
    "        return res\n",
    "             \n",
    "        \n",
    "Ansh=isogram(\"1231\")\n",
    "print(Ansh.Checker())   \n",
    "      "
   ]
  },
  {
   "cell_type": "markdown",
   "id": "60a6a82e-77e7-474a-b730-a7230cd313e3",
   "metadata": {},
   "source": [
    "Create a function that takes a string and returns True or False, depending on whether the characters are in order or not.\n",
    "Examples\n",
    "is_in_order(\"abc\") ➞ True\n",
    "\n",
    "is_in_order(\"edabit\") ➞ False\n",
    "\n",
    "is_in_order(\"123\") ➞ True\n",
    "\n",
    "is_in_order(\"xyzz\") ➞ True\n",
    "Notes\n",
    "You don't have to handle empty strings.\n"
   ]
  },
  {
   "cell_type": "code",
   "execution_count": 5,
   "id": "96de9784-d22d-4f79-b3cd-05fc5f7450e4",
   "metadata": {},
   "outputs": [
    {
     "name": "stdout",
     "output_type": "stream",
     "text": [
      "No\n"
     ]
    }
   ],
   "source": [
    "class in_sequence_or_not:\n",
    "    def __init__(self,str) -> None:\n",
    "        self.str=str\n",
    "    def get(self):\n",
    "        res=True\n",
    "        for i in range(len(self.str)-1):\n",
    "            if self.str[i]>self.str[i+1]:\n",
    "                res=False\n",
    "                break\n",
    "            else:\n",
    "                res=True\n",
    "        if res==True:\n",
    "            print(\"Yes\")\n",
    "        else:\n",
    "            print(\"No\")\n",
    "Ansh=in_sequence_or_not(\"1293456\")\n",
    "Ansh.get()                   \n",
    "            "
   ]
  }
 ],
 "metadata": {
  "kernelspec": {
   "display_name": "Python 3 (ipykernel)",
   "language": "python",
   "name": "python3"
  },
  "language_info": {
   "codemirror_mode": {
    "name": "ipython",
    "version": 3
   },
   "file_extension": ".py",
   "mimetype": "text/x-python",
   "name": "python",
   "nbconvert_exporter": "python",
   "pygments_lexer": "ipython3",
   "version": "3.12.1"
  }
 },
 "nbformat": 4,
 "nbformat_minor": 5
}

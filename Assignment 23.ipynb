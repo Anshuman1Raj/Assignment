{
 "cells": [
  {
   "cell_type": "markdown",
   "id": "635a51e3-3da6-4113-8f5a-43a4b092b357",
   "metadata": {},
   "source": [
    "Create a function that takes a number as an argument and returns True or False depending on whether the number is symmetrical or not. A number is symmetrical when it is the same as its reverse.\n",
    "Examples\n",
    "is_symmetrical(7227) ➞ True\n",
    "\n",
    "is_symmetrical(12567) ➞ False\n",
    "\n",
    "is_symmetrical(44444444) ➞ True\n",
    "\n",
    "is_symmetrical(9939) ➞ False\n",
    "\n",
    "is_symmetrical(1112111) ➞ True\n"
   ]
  },
  {
   "cell_type": "code",
   "execution_count": 1,
   "id": "b42865c0-639e-4be8-a631-ad9bdc72818f",
   "metadata": {},
   "outputs": [
    {
     "name": "stdout",
     "output_type": "stream",
     "text": [
      "Yes 12121 is symmetric\n"
     ]
    }
   ],
   "source": [
    "class is_symmetric:\n",
    "    def __init__(self,Number) -> None:\n",
    "        self.Number=Number\n",
    "    def Checker(self):\n",
    "        self.Number=str(self.Number) \n",
    "        if self.Number==self.Number[::-1]:\n",
    "            return f\"Yes {self.Number} is symmetric\"\n",
    "        else:\n",
    "            return f\"No {self.Number} is not symmetric\"\n",
    "Ansh=is_symmetric(12121)\n",
    "print(Ansh.Checker())  \n",
    "     "
   ]
  },
  {
   "cell_type": "markdown",
   "id": "a5c6d8af-912b-49cf-a977-442c99a8d4d9",
   "metadata": {},
   "source": [
    "Given a string of numbers separated by a comma and space, return the product of the numbers.\n",
    "Examples\n",
    "multiply_nums(\"2, 3\") ➞ 6\n",
    "\n",
    "multiply_nums(\"1, 2, 3, 4\") ➞ 24\n",
    "\n",
    "multiply_nums(\"54, 75, 453, 0\") ➞ 0\n",
    "\n",
    "multiply_nums(\"10, -2\") ➞ -20\n"
   ]
  },
  {
   "cell_type": "code",
   "execution_count": 5,
   "id": "7369ce06-63bd-49c9-86ac-eaa063002f55",
   "metadata": {},
   "outputs": [
    {
     "name": "stdout",
     "output_type": "stream",
     "text": [
      "264\n"
     ]
    }
   ],
   "source": [
    "class Multiply:\n",
    "    def __init__(self,str) -> None:\n",
    "        self.str=str\n",
    "    def get_Value(self):\n",
    "        Mul=1\n",
    "        for i in self.str.split(\",\"):\n",
    "            Mul*=int(i)\n",
    "        return Mul    \n",
    "Ansh=Multiply(\"1,2,3,4,11\")        \n",
    "print(Ansh.get_Value())"
   ]
  },
  {
   "cell_type": "markdown",
   "id": "6bd86b25-6a9c-4ce4-bc2a-db6588bf1e9b",
   "metadata": {},
   "source": [
    "Create a function that squares every digit of a number.\n",
    "Examples\n",
    "square_digits(9119) ➞ 811181\n",
    "\n",
    "square_digits(2483) ➞ 416649\n",
    "\n",
    "square_digits(3212) ➞ 9414\n",
    "Notes\n",
    "The function receives an integer and must return an integer.\n"
   ]
  },
  {
   "cell_type": "code",
   "execution_count": 6,
   "id": "492e32f1-36ba-425d-b1a7-f8b337189339",
   "metadata": {},
   "outputs": [
    {
     "name": "stdout",
     "output_type": "stream",
     "text": [
      "416649\n"
     ]
    }
   ],
   "source": [
    "class square:\n",
    "    def __init__(self,num) -> None:\n",
    "        self.num=num\n",
    "    def get_Value(self):\n",
    "        self.num=str(self.num)\n",
    "        New_str=\"\"\n",
    "        for i in self.num:\n",
    "            New_str+=str(int(i)**2)\n",
    "        return New_str\n",
    "Ansh=square(2483)\n",
    "print(Ansh.get_Value())            "
   ]
  },
  {
   "cell_type": "markdown",
   "id": "031508fc-f98a-4d9c-9382-b394f1ee255c",
   "metadata": {},
   "source": [
    "Create a function that sorts a list and removes all duplicate items from it.\n",
    "Examples\n",
    "setify([1, 3, 3, 5, 5]) ➞ [1, 3, 5]\n",
    "\n",
    "setify([4, 4, 4, 4]) ➞ [4]\n",
    "\n",
    "setify([5, 7, 8, 9, 10, 15]) ➞ [5, 7, 8, 9, 10, 15]\n",
    "\n",
    "setify([3, 3, 3, 2, 1]) ➞ [1, 2, 3]\n"
   ]
  },
  {
   "cell_type": "code",
   "execution_count": 7,
   "id": "129cc3eb-d314-45a7-9025-05423a389bfa",
   "metadata": {},
   "outputs": [
    {
     "name": "stdout",
     "output_type": "stream",
     "text": [
      "[1, 2, 3, 4, 5, 7, 8, 9]\n"
     ]
    }
   ],
   "source": [
    "class sort_Duplicate:\n",
    "    def __init__(self,list) -> None:\n",
    "        self.list=list\n",
    "    def Execute(self):\n",
    "        self.list.sort()\n",
    "        return list(set(self.list))\n",
    "Ansh=sort_Duplicate([1,2,4,2,2,3,3,5,7,8,9])    \n",
    "print(Ansh.Execute())\n"
   ]
  },
  {
   "cell_type": "markdown",
   "id": "ffdfd96e-47df-4575-b27d-47f24f673d9c",
   "metadata": {},
   "source": [
    "Create a function that returns the mean of all digits.\n",
    "Examples\n",
    "mean(42) ➞ 3\n",
    "\n",
    "mean(12345) ➞ 3\n",
    "\n",
    "mean(666) ➞ 6\n",
    "Notes\n",
    "•\tThe mean of all digits is the sum of digits / how many digits there are (e.g. mean of digits in 512 is (5+1+2)/3(number of digits) = 8/3=2).\n",
    "•\tThe mean will always be an integer.\n"
   ]
  },
  {
   "cell_type": "code",
   "execution_count": 8,
   "id": "3e3980c1-18c7-4277-a328-a770ff727180",
   "metadata": {},
   "outputs": [
    {
     "name": "stdout",
     "output_type": "stream",
     "text": [
      "6.0\n"
     ]
    }
   ],
   "source": [
    "class Mean:\n",
    "    def __init__(self,number) -> None:\n",
    "        self.number=number\n",
    "    def get_mean(self):\n",
    "        self.number=str(self.number)\n",
    "        Sum_of_all=0\n",
    "        for i in self.number:\n",
    "            Sum_of_all+=int(i)\n",
    "        return Sum_of_all/len(self.number)    \n",
    "Ansh=Mean(666)\n",
    "print(Ansh.get_mean())    "
   ]
  }
 ],
 "metadata": {
  "kernelspec": {
   "display_name": "Python 3 (ipykernel)",
   "language": "python",
   "name": "python3"
  },
  "language_info": {
   "codemirror_mode": {
    "name": "ipython",
    "version": 3
   },
   "file_extension": ".py",
   "mimetype": "text/x-python",
   "name": "python",
   "nbconvert_exporter": "python",
   "pygments_lexer": "ipython3",
   "version": "3.12.1"
  }
 },
 "nbformat": 4,
 "nbformat_minor": 5
}

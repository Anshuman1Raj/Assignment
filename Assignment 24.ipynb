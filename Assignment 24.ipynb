{
 "cells": [
  {
   "cell_type": "markdown",
   "id": "db09d612-42d1-4618-8694-cafb2f081699",
   "metadata": {},
   "source": [
    "Create a function that takes an integer and returns a list from 1 to the given number, where:\n",
    "1.\tIf the number can be divided evenly by 4, amplify it by 10 (i.e. return 10 times the number).\n",
    "2.\tIf the number cannot be divided evenly by 4, simply return the number.\n",
    "Examples\n",
    "amplify(4) ➞ [1, 2, 3, 40]\n",
    "\n",
    "amplify(3) ➞ [1, 2, 3]\n",
    "\n",
    "amplify(25) ➞ [1, 2, 3, 40, 5, 6, 7, 80, 9, 10, 11, 120, 13, 14, 15, 160, 17, 18, 19, 200, 21, 22, 23, 240, 25]\n",
    "Notes\n",
    "•\tThe given integer will always be equal to or greater than 1.\n",
    "•\tInclude the number (see example above).\n",
    "•\tTo perform this problem with its intended purpose, try doing it with list comprehensions. If that's too difficult, just solve the challenge any way you can.\n"
   ]
  },
  {
   "cell_type": "code",
   "execution_count": 1,
   "id": "0f4b6d98-2603-4fec-9284-c7905f3ff64b",
   "metadata": {},
   "outputs": [
    {
     "name": "stdout",
     "output_type": "stream",
     "text": [
      "[1, 2, 3, 40, 5, 6, 7, 80, 9, 10, 11, 120, 13, 14, 15, 160, 17, 18, 19, 200, 21, 22, 23, 240, 25]\n"
     ]
    }
   ],
   "source": [
    "class Amplify:\n",
    "    def __init__(self,Range) -> None:\n",
    "        self.Range=Range\n",
    "    def Amplifyer(self):\n",
    "        New_List=[]\n",
    "        for i in range(1,self.Range+1):\n",
    "            if i%4==0:\n",
    "                New_List.append(i*10)\n",
    "            else:\n",
    "                New_List.append(i)\n",
    "        return New_List\n",
    "Ansh=Amplify(25)\n",
    "print(Ansh.Amplifyer())                \n"
   ]
  },
  {
   "cell_type": "markdown",
   "id": "8c2d2e17-6df1-4de5-a27e-f1c94574205d",
   "metadata": {},
   "source": [
    "Create a function that takes a list of numbers and return the number that's unique.\n",
    "Examples\n",
    "unique([3, 3, 3, 7, 3, 3]) ➞ 7\n",
    "\n",
    "unique([0, 0, 0.77, 0, 0]) ➞ 0.77\n",
    "\n",
    "unique([0, 1, 1, 1, 1, 1, 1, 1]) ➞ 0\n",
    "Notes\n",
    "Test cases will always have exactly one unique number while all others are the same.\n"
   ]
  },
  {
   "cell_type": "code",
   "execution_count": 2,
   "id": "d53fe0e6-c35d-4ea7-89d2-b2e98c114692",
   "metadata": {},
   "outputs": [
    {
     "name": "stdout",
     "output_type": "stream",
     "text": [
      "0.77 "
     ]
    }
   ],
   "source": [
    "from collections import Counter\n",
    "class Unique:\n",
    "    def __init__(self,List) -> None:\n",
    "        self.List=List\n",
    "    def Find_Unique(self):\n",
    "        New_Dict=Counter(self.List)\n",
    "        for element,count in New_Dict.items():\n",
    "            if count==1:\n",
    "                print(element,end=\" \")\n",
    "Ansh=Unique([0, 0, 0.77, 0, 0])\n",
    "Ansh.Find_Unique()            \n"
   ]
  },
  {
   "cell_type": "markdown",
   "id": "96811081-3894-4479-98c4-ca2088eaf121",
   "metadata": {},
   "source": [
    "Your task is to create a Circle constructor that creates a circle with a radius provided by an argument. The circles constructed must have two getters getArea() (PIr^2) and getPerimeter() (2PI*r) which give both respective areas and perimeter (circumference).\n",
    "For help with this class, I have provided you with a Rectangle constructor which you can use as a base example.\n",
    "Examples\n",
    "circy = Circle(11)\n",
    "circy.getArea()\n",
    "\n",
    "# Should return 380.132711084365\n",
    "\n",
    "circy = Circle(4.44)\n",
    "circy.getPerimeter()\n",
    "\n",
    "# Should return 27.897342763877365\n",
    "Notes\n",
    "Round results up to the nearest integer.\n"
   ]
  },
  {
   "cell_type": "code",
   "execution_count": 4,
   "id": "115cf66a-8ee8-467f-8d9f-2274e778dba7",
   "metadata": {},
   "outputs": [
    {
     "name": "stdout",
     "output_type": "stream",
     "text": [
      "379.94\n",
      "69.08\n"
     ]
    }
   ],
   "source": [
    "class Circle:\n",
    "    def __init__(self,Radius) -> None:\n",
    "        self.Radius=Radius\n",
    "    def Area(self):\n",
    "        return 3.14*(self.Radius**2)\n",
    "    def Perimeter(self):\n",
    "        return 2*(3.14)*(self.Radius)\n",
    "Ansh=Circle(11)\n",
    "print(Ansh.Area())        \n",
    "print(Ansh.Perimeter())        "
   ]
  },
  {
   "cell_type": "markdown",
   "id": "354f581d-ddab-4916-8723-d0e77c6f9800",
   "metadata": {},
   "source": [
    "Create a function that takes a list of strings and return a list, sorted from shortest to longest.\n",
    "Examples\n",
    "sort_by_length([\"Google\", \"Apple\", \"Microsoft\"])\n",
    "➞ [\"Apple\", \"Google\", \"Microsoft\"]\n",
    "\n",
    "sort_by_length([\"Leonardo\", \"Michelangelo\", \"Raphael\", \"Donatello\"])\n",
    "➞ [\"Raphael\", \"Leonardo\", \"Donatello\", \"Michelangelo\"]\n",
    "\n",
    "sort_by_length([\"Turing\", \"Einstein\", \"Jung\"])\n",
    "➞ [\"Jung\", \"Turing\", \"Einstein\"]\n",
    "Notes\n",
    "All test cases contain lists with strings of different lengths, so you won't have to deal with multiple strings of the same length.\n"
   ]
  },
  {
   "cell_type": "code",
   "execution_count": 5,
   "id": "a624de6d-49d0-4711-9d81-371a00da818b",
   "metadata": {},
   "outputs": [
    {
     "name": "stdout",
     "output_type": "stream",
     "text": [
      "['Zak', 'Ansh', 'Sonal']\n"
     ]
    }
   ],
   "source": [
    "class Sorting:\n",
    "    def __init__(self,List) -> None:\n",
    "        self.List=List\n",
    "    def Sort(self):\n",
    "        return sorted(self.List,key=len)\n",
    "Ansh=Sorting([\"Sonal\",\"Ansh\",\"Zak\"])    \n",
    "print(Ansh.Sort())    "
   ]
  },
  {
   "cell_type": "markdown",
   "id": "4710098f-dc1c-4326-a16e-f1ad64b32c07",
   "metadata": {},
   "source": [
    "Create a function that validates whether three given integers form a Pythagorean triplet. The sum of the squares of the two smallest integers must equal the square of the largest number to be validated.\n",
    "\n",
    "\n",
    "Examples\n",
    "is_triplet(3, 4, 5) ➞ True\n",
    "# 3² + 4² = 25\n",
    "# 5² = 25\n",
    "\n",
    "is_triplet(13, 5, 12) ➞ True\n",
    "# 5² + 12² = 169\n",
    "# 13² = 169\n",
    "\n",
    "is_triplet(1, 2, 3) ➞ False\n",
    "# 1² + 2² = 5\n",
    "# 3² = 9\n",
    "Notes\n",
    "Numbers may not be given in a sorted order.\n"
   ]
  },
  {
   "cell_type": "code",
   "execution_count": 6,
   "id": "36a8596f-1417-461f-9ffd-03f16214d55f",
   "metadata": {},
   "outputs": [
    {
     "name": "stdout",
     "output_type": "stream",
     "text": [
      "True\n"
     ]
    }
   ],
   "source": [
    "class Triplet:\n",
    "    def __init__(self,a,b,c) -> None:\n",
    "        self.a=a\n",
    "        self.b=b\n",
    "        self.c=c\n",
    "    def checker(self):\n",
    "        a=[self.a,self.b,self.c]\n",
    "        a.sort()\n",
    "        if a[0]**2+a[1]**2==a[2]**2:\n",
    "            return True\n",
    "        else:\n",
    "            return False\n",
    "\n",
    "        \n",
    "Ansh=Triplet(3,4,5)\n",
    "print(Ansh.checker())            "
   ]
  }
 ],
 "metadata": {
  "kernelspec": {
   "display_name": "Python 3 (ipykernel)",
   "language": "python",
   "name": "python3"
  },
  "language_info": {
   "codemirror_mode": {
    "name": "ipython",
    "version": 3
   },
   "file_extension": ".py",
   "mimetype": "text/x-python",
   "name": "python",
   "nbconvert_exporter": "python",
   "pygments_lexer": "ipython3",
   "version": "3.12.1"
  }
 },
 "nbformat": 4,
 "nbformat_minor": 5
}

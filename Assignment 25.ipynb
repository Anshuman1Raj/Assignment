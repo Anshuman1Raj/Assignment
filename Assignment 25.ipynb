{
 "cells": [
  {
   "cell_type": "markdown",
   "id": "50437bb4-47ae-4eb7-91ed-541ed13c2e41",
   "metadata": {},
   "source": [
    "Question1\n",
    "Create a function that takes three integer arguments (a, b, c) and returns the amount of integers which are of equal value.\n",
    "Examples\n",
    "equal(3, 4, 3) ➞ 2\n",
    "\n",
    "equal(1, 1, 1) ➞ 3\n",
    "\n",
    "equal(3, 4, 1) ➞ 0 \n",
    "Notes\n",
    "Your function must return 0, 2 or 3.\n"
   ]
  },
  {
   "cell_type": "code",
   "execution_count": 1,
   "id": "98d852fa-2aa8-4998-9c81-729f7c427fbc",
   "metadata": {},
   "outputs": [
    {
     "name": "stdout",
     "output_type": "stream",
     "text": [
      "3\n"
     ]
    }
   ],
   "source": [
    "class Count_Integer:\n",
    "    def __init__(self,a,b,c) -> None:\n",
    "        self.a=a\n",
    "        self.b=b\n",
    "        self.c=c\n",
    "    def Counting(self):\n",
    "        A=[self.a,self.b,self.c]\n",
    "        B=[]\n",
    "        for i in A:\n",
    "            B.append(A.count(i))\n",
    "            B.sort()    \n",
    "        return B[-1]    \n",
    "Ansh=Count_Integer(1,1,1)\n",
    "print(Ansh.Counting())          \n"
   ]
  },
  {
   "cell_type": "markdown",
   "id": "cf024709-d8f0-4446-8e66-d79433ccd85a",
   "metadata": {},
   "source": [
    "Question2\n",
    "Write a function that converts a dictionary into a list of keys-values tuples.\n",
    "Examples\n",
    "dict_to_list({\n",
    "  \"D\": 1,\n",
    "  \"B\": 2,\n",
    "  \"C\": 3\n",
    "}) ➞ [(\"B\", 2), (\"C\", 3), (\"D\", 1)]\n",
    "\n",
    "dict_to_list({\n",
    "  \"likes\": 2,\n",
    "  \"dislikes\": 3,\n",
    "  \"followers\": 10\n",
    "}) ➞ [(\"dislikes\", 3), (\"followers\", 10), (\"likes\", 2)]\n",
    "Notes\n",
    "Return the elements in the list in alphabetical order.\n"
   ]
  },
  {
   "cell_type": "code",
   "execution_count": 2,
   "id": "6a2e8be4-ef6d-4341-b11d-5d02addd4548",
   "metadata": {},
   "outputs": [
    {
     "name": "stdout",
     "output_type": "stream",
     "text": [
      "[('B', 2), ('C', 3), ('D', 1)]\n"
     ]
    }
   ],
   "source": [
    "class Dict_2_List:\n",
    "    def __init__(self,Dict) -> None:\n",
    "        self.dict=Dict\n",
    "    def Tuple_of_List(self):\n",
    "        Newlist=list(self.dict.items())\n",
    "        Newlist.sort()\n",
    "        return Newlist\n",
    "Ansh=Dict_2_List({\n",
    "  \"D\": 1,\n",
    "  \"B\": 2,\n",
    "  \"C\": 3\n",
    "}) \n",
    "\n",
    "print(Ansh.Tuple_of_List())        "
   ]
  },
  {
   "cell_type": "markdown",
   "id": "932d9f0d-2709-46dc-afda-5a3bc4154e90",
   "metadata": {},
   "source": [
    "Question3\n",
    "Write a function that creates a dictionary with each (key, value) pair being the (lower case, upper case) versions of a letter, respectively.\n",
    "Examples\n",
    "mapping([\"p\", \"s\"]) ➞ { \"p\": \"P\", \"s\": \"S\" }\n",
    "\n",
    "mapping([\"a\", \"b\", \"c\"]) ➞ { \"a\": \"A\", \"b\": \"B\", \"c\": \"C\" }\n",
    "\n",
    "mapping([\"a\", \"v\", \"y\", \"z\"]) ➞ { \"a\": \"A\", \"v\": \"V\", \"y\": \"Y\", \"z\": \"Z\" }\n",
    "Notes\n",
    "All of the letters in the input list will always be lowercase.\n"
   ]
  },
  {
   "cell_type": "code",
   "execution_count": 3,
   "id": "da4bd3a8-c30a-42be-aaf8-ea45a2a7ae30",
   "metadata": {},
   "outputs": [
    {
     "name": "stdout",
     "output_type": "stream",
     "text": [
      "{'a': 'A', 'b': 'B', 'c': 'C'}\n"
     ]
    }
   ],
   "source": [
    "class Capatalize:\n",
    "    def __init__(self,list) -> None:\n",
    "        self.list=list\n",
    "    def Mapping(self):\n",
    "        New_Dict={}\n",
    "        for i in self.list:\n",
    "            New_Dict[i]=i.upper()\n",
    "        return New_Dict\n",
    "Ansh=Capatalize([\"a\",\"b\",\"c\"])\n",
    "print(Ansh.Mapping())            "
   ]
  },
  {
   "cell_type": "markdown",
   "id": "936eb57c-2a48-45ba-96dd-e0f155d3e7e0",
   "metadata": {},
   "source": [
    "Question4\n",
    "Write a function, that replaces all vowels in a string with a specified vowel.\n",
    "Examples\n",
    "vow_replace(\"apples and bananas\", \"u\") ➞ \"upplus und bununus\"\n",
    "\n",
    "vow_replace(\"cheese casserole\", \"o\") ➞ \"chooso cossorolo\"\n",
    "\n",
    "vow_replace(\"stuffed jalapeno poppers\", \"e\") ➞ \"steffed jelepene peppers\"\n",
    "Notes\n",
    "All words will be lowercase. Y is not considered a vowel.\n"
   ]
  },
  {
   "cell_type": "code",
   "execution_count": 4,
   "id": "4ca66374-bb65-4208-a88a-c495896fae2a",
   "metadata": {},
   "outputs": [
    {
     "name": "stdout",
     "output_type": "stream",
     "text": [
      "upplu und bununus\n"
     ]
    }
   ],
   "source": [
    "class String:\n",
    "    def __init__(self,String,Word) -> None:\n",
    "        self.String=String                       \n",
    "        self.Word=Word\n",
    "    def Replacer_Vowel(self):\n",
    "        New_Str=\"\"\n",
    "        for i in self.String:\n",
    "            if i==\"a\" or i==\"e\" or i==\"i\" or i==\"o\" or i==\"u\":\n",
    "                i=self.Word\n",
    "                New_Str+=i\n",
    "            else:\n",
    "                New_Str+=i    \n",
    "        return New_Str\n",
    "Ansh=String(\"apple and bananas\",\"u\")\n",
    "print(Ansh.Replacer_Vowel())            \n",
    "                "
   ]
  },
  {
   "cell_type": "markdown",
   "id": "d0f13372-f5f1-4c58-bebe-bba2b029cb69",
   "metadata": {},
   "source": [
    "Create a function that takes a string as input and capitalizes a letter if its ASCII code is even and returns its lower case version if its ASCII code is odd.\n",
    "Examples\n",
    "ascii_capitalize(\"to be or not to be!\") ➞ \"To Be oR NoT To Be!\"\n",
    "\n",
    "ascii_capitalize(\"THE LITTLE MERMAID\") ➞ \"THe LiTTLe meRmaiD\"\n",
    "\n",
    "ascii_capitalize(\"Oh what a beautiful morning.\") ➞ \"oH wHaT a BeauTiFuL moRNiNg.\"\n"
   ]
  },
  {
   "cell_type": "code",
   "execution_count": 5,
   "id": "a83dc7ee-08fc-4463-b803-4ce7f41bb1fb",
   "metadata": {},
   "outputs": [
    {
     "name": "stdout",
     "output_type": "stream",
     "text": [
      "To Be oR NoT To Be!\n"
     ]
    }
   ],
   "source": [
    "class Capatalize:\n",
    "    def __init__(self,str) -> None:\n",
    "        self.str=str\n",
    "    def capatalizer(self):\n",
    "        str=\"\"\n",
    "        for i in self.str:\n",
    "            if ord(i)%2==0:\n",
    "                str+=i.upper()\n",
    "            else:\n",
    "                str+=i.lower()   \n",
    "        return str        \n",
    "Ansh=Capatalize(\"to be or not to be!\")\n",
    "print(Ansh.capatalizer())\n",
    "          "
   ]
  }
 ],
 "metadata": {
  "kernelspec": {
   "display_name": "Python 3 (ipykernel)",
   "language": "python",
   "name": "python3"
  },
  "language_info": {
   "codemirror_mode": {
    "name": "ipython",
    "version": 3
   },
   "file_extension": ".py",
   "mimetype": "text/x-python",
   "name": "python",
   "nbconvert_exporter": "python",
   "pygments_lexer": "ipython3",
   "version": "3.12.1"
  }
 },
 "nbformat": 4,
 "nbformat_minor": 5
}

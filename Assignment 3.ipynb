{
 "cells": [
  {
   "cell_type": "markdown",
   "id": "15f6831a-23b5-411a-8f97-484d785e4c0d",
   "metadata": {},
   "source": [
    "1.\tWrite a Python Program to Check if a Number is Positive, Negative or Zero?"
   ]
  },
  {
   "cell_type": "code",
   "execution_count": 1,
   "id": "9147e223-8c05-4f74-b862-be7952da22cd",
   "metadata": {},
   "outputs": [
    {
     "name": "stdout",
     "output_type": "stream",
     "text": [
      "Number is Positive\n"
     ]
    }
   ],
   "source": [
    "class Check_Number:\n",
    "    def __init__(self,Number) -> None:\n",
    "        self.Number=Number\n",
    "    def Checker(self):\n",
    "        if self.Number==0:\n",
    "            return \"Number is Zero\"    \n",
    "        elif self.Number>0:\n",
    "            return \"Number is Positive\"    \n",
    "        else:\n",
    "            return \"Number is Negative\"\n",
    "Ansh=Check_Number(6)\n",
    "print(Ansh.Checker())            "
   ]
  },
  {
   "cell_type": "markdown",
   "id": "6b481536-e213-487e-ac17-58661a61b170",
   "metadata": {},
   "source": [
    "2.\tWrite a Python Program to Check if a Number is Odd or Even?"
   ]
  },
  {
   "cell_type": "code",
   "execution_count": 2,
   "id": "5f0a521f-a70d-48f6-8c81-177079a92e3e",
   "metadata": {},
   "outputs": [
    {
     "name": "stdout",
     "output_type": "stream",
     "text": [
      "Number is odd\n"
     ]
    }
   ],
   "source": [
    "class Odd_or_Even:\n",
    "    def __init__(self,Number) -> None:\n",
    "        self.Number=Number\n",
    "    def Checker(self):\n",
    "        if self.Number%2==0:\n",
    "            return \"Number is Even\"        \n",
    "        else :\n",
    "            return \"Number is odd\"\n",
    "Ansh=Odd_or_Even(5)\n",
    "print(Ansh.Checker())     "
   ]
  },
  {
   "cell_type": "markdown",
   "id": "20c8a978-6bf1-4e92-af0f-cba8369248cc",
   "metadata": {},
   "source": [
    "3.\tWrite a Python Program to Check Leap Year?"
   ]
  },
  {
   "cell_type": "code",
   "execution_count": 3,
   "id": "0a0c9581-c563-416d-8a06-cd3a0f3b6019",
   "metadata": {},
   "outputs": [
    {
     "name": "stdout",
     "output_type": "stream",
     "text": [
      "1988 is leap year\n"
     ]
    }
   ],
   "source": [
    "class Leap_or_Not:\n",
    "    def __init__(self,Year) -> None:\n",
    "        self.Year=Year\n",
    "    def Checker(self):\n",
    "        if self.Year%4==0:\n",
    "            return f\"{self.Year} is leap year\"        \n",
    "        else :\n",
    "            return f\"{self.Year} is not leap year\" \n",
    "Ansh=Leap_or_Not(1988)\n",
    "print(Ansh.Checker())    "
   ]
  },
  {
   "cell_type": "markdown",
   "id": "7285742b-610b-474e-9e60-c08dfff2123c",
   "metadata": {},
   "source": [
    "4.\tWrite a Python Program to Check Prime Number?"
   ]
  },
  {
   "cell_type": "code",
   "execution_count": 1,
   "id": "11fcda81-c9d0-4e41-a045-f471b37f8205",
   "metadata": {},
   "outputs": [
    {
     "name": "stdout",
     "output_type": "stream",
     "text": [
      "True\n"
     ]
    }
   ],
   "source": [
    "class Prime_or_Not:\n",
    "    def __init__(self,Number) -> None:\n",
    "        self.Number=Number\n",
    "\n",
    "    def Checker(self):\n",
    "        Prime=True\n",
    "        for i in range(2,self.Number):\n",
    "            if self.Number<=2:\n",
    "                return f\"{self.Number} is Prime\"      \n",
    "            elif self.Number%i==0:\n",
    "                Prime=False\n",
    "                break\n",
    "        return Prime        \n",
    "\n",
    "Ansh=Prime_or_Not(11)\n",
    "print(Ansh.Checker())    "
   ]
  },
  {
   "cell_type": "markdown",
   "id": "61e1d4d3-9cfa-4aba-a89d-48ee793947a3",
   "metadata": {},
   "source": [
    "5.\tWrite a Python Program to Print all Prime Numbers in an Interval of 1-10000?"
   ]
  },
  {
   "cell_type": "code",
   "execution_count": 2,
   "id": "979a1ca9-5073-4387-97e7-fb62905ac542",
   "metadata": {},
   "outputs": [
    {
     "name": "stdout",
     "output_type": "stream",
     "text": [
      "[2, 3, 5, 7, 11, 13, 17, 19, 23, 29, 31, 37, 41, 43, 47, 53, 59, 61, 67, 71, 73, 79, 83, 89, 97]\n"
     ]
    }
   ],
   "source": [
    "class Prime:\n",
    "    def __init__(self,Upper_range,Lower_range) -> None:\n",
    "        self.Upper_range=Upper_range\n",
    "        self.Lower_range=Lower_range\n",
    "\n",
    "    def Get(self):\n",
    "        \n",
    "        new_list=[]\n",
    "        for i in range(self.Lower_range,self.Upper_range+1):\n",
    "            if i==1:\n",
    "                continue\n",
    "            Prime=True\n",
    "            for j in range(2,i//2+1):\n",
    "                if i%j==0:\n",
    "                    Prime=False\n",
    "                    break\n",
    "            if Prime==True:\n",
    "                new_list.append(i)\n",
    "        return new_list        \n",
    "Ansh=Prime(100,2)\n",
    "print(Ansh.Get())"
   ]
  }
 ],
 "metadata": {
  "kernelspec": {
   "display_name": "Python 3 (ipykernel)",
   "language": "python",
   "name": "python3"
  },
  "language_info": {
   "codemirror_mode": {
    "name": "ipython",
    "version": 3
   },
   "file_extension": ".py",
   "mimetype": "text/x-python",
   "name": "python",
   "nbconvert_exporter": "python",
   "pygments_lexer": "ipython3",
   "version": "3.12.1"
  }
 },
 "nbformat": 4,
 "nbformat_minor": 5
}

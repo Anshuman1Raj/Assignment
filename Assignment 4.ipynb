{
 "cells": [
  {
   "cell_type": "markdown",
   "id": "e90b7661-ad22-46c1-8ec0-53ff30d1d5f5",
   "metadata": {},
   "source": [
    "1.\tWrite a Python Program to Find the Factorial of a Number?"
   ]
  },
  {
   "cell_type": "code",
   "execution_count": 1,
   "id": "5a1015da-0a40-457f-855a-66c5ac587afe",
   "metadata": {},
   "outputs": [
    {
     "name": "stdout",
     "output_type": "stream",
     "text": [
      "120\n"
     ]
    }
   ],
   "source": [
    "class Factorial:\n",
    "    def __init__(self,Number) -> None:\n",
    "        self.Number=Number\n",
    "\n",
    "    def get(self):\n",
    "        fac=1\n",
    "        for i in range(1,self.Number+1):\n",
    "            fac=fac*i\n",
    "        return fac    \n",
    "\n",
    "Ansh=Factorial(5)\n",
    "print(Ansh.get())           "
   ]
  },
  {
   "cell_type": "markdown",
   "id": "ba6f80c0-61c4-4b87-aaf3-8628eaacdcb0",
   "metadata": {},
   "source": [
    "2.\tWrite a Python Program to Display the multiplication Table?"
   ]
  },
  {
   "cell_type": "code",
   "execution_count": 2,
   "id": "2eac1211-42a8-49d2-95ef-fb89cd447f57",
   "metadata": {},
   "outputs": [
    {
     "name": "stdout",
     "output_type": "stream",
     "text": [
      "15 * 1 = 15\n",
      "15 * 2 = 30\n",
      "15 * 3 = 45\n",
      "15 * 4 = 60\n",
      "15 * 5 = 75\n",
      "15 * 6 = 90\n",
      "15 * 7 = 105\n",
      "15 * 8 = 120\n",
      "15 * 9 = 135\n",
      "15 * 10 = 150\n"
     ]
    }
   ],
   "source": [
    "class Multiplication:\n",
    "    def __init__(self,Number):\n",
    "        self.Number=Number\n",
    "        for i in range(1,11):\n",
    "            print(f\"{self.Number} * {i} = {self.Number * i}\") \n",
    "\n",
    "Ansh=Multiplication(15)\n"
   ]
  },
  {
   "cell_type": "markdown",
   "id": "766aa9b4-90be-4495-838f-470e25e21399",
   "metadata": {},
   "source": [
    "3.\tWrite a Python Program to Print the Fibonacci sequence?"
   ]
  },
  {
   "cell_type": "code",
   "execution_count": 3,
   "id": "4719b3c1-b4f4-4d99-8822-758e04e873f9",
   "metadata": {},
   "outputs": [
    {
     "name": "stdin",
     "output_type": "stream",
     "text": [
      "Enter Nth Sequence 9\n"
     ]
    },
    {
     "name": "stdout",
     "output_type": "stream",
     "text": [
      "1,1,2,3,5,8,13,21,34,"
     ]
    }
   ],
   "source": [
    "def Fibonacci(Number):\n",
    "    if Number<=1:\n",
    "        return 1\n",
    "    return Fibonacci(Number-1)+Fibonacci(Number-2)\n",
    "Nth_Sequence=int(input(\"Enter Nth Sequence\"))\n",
    "\n",
    "for i in range(Nth_Sequence):\n",
    "    print(Fibonacci(i),end=\",\")"
   ]
  },
  {
   "cell_type": "markdown",
   "id": "398b3325-6855-48c2-97f4-93ad35992bbb",
   "metadata": {},
   "source": [
    "4.\tWrite a Python Program to Check Armstrong Number?"
   ]
  },
  {
   "cell_type": "code",
   "execution_count": 4,
   "id": "f39e523f-3d95-44a2-9337-9128ebe75c27",
   "metadata": {},
   "outputs": [
    {
     "name": "stdout",
     "output_type": "stream",
     "text": [
      "Yes\n"
     ]
    }
   ],
   "source": [
    "class Armstrong_Checker:\n",
    "    def __init__(self,Number) -> None:\n",
    "        self.Number=Number\n",
    "    def Check(self):\n",
    "        Temp=self.Number\n",
    "        sum=0\n",
    "        while Temp>0:\n",
    "            digits=Temp%10\n",
    "            sum=sum+digits**(len(str(self.Number)))\n",
    "            Temp=Temp//10\n",
    "        if self.Number==sum:\n",
    "            return \"Yes\"\n",
    "        else:\n",
    "            return \"No\"\n",
    "Ansh=Armstrong_Checker(407)\n",
    "print(Ansh.Check())            \n"
   ]
  },
  {
   "cell_type": "markdown",
   "id": "078b56e3-6ba6-4525-9c3a-a405191f9503",
   "metadata": {},
   "source": [
    "5.\tWrite a Python Program to Find Armstrong Number in an Interval?"
   ]
  },
  {
   "cell_type": "code",
   "execution_count": 5,
   "id": "3aa581af-3782-42f0-8106-86644be9734f",
   "metadata": {},
   "outputs": [
    {
     "name": "stdout",
     "output_type": "stream",
     "text": [
      "[153, 370, 371, 407, 1634]\n"
     ]
    }
   ],
   "source": [
    "class Armstrong_Checker:\n",
    "    def __init__(self,From,To_Where) -> None:\n",
    "        self.From=From\n",
    "        self.To_Where=To_Where\n",
    "    def Check(self):\n",
    "        List_of_Armstrong=[]\n",
    "        for i in range(self.From,self.To_Where):\n",
    "            Temp=i\n",
    "            sum=0\n",
    "            while Temp>0:\n",
    "                digits=Temp%10\n",
    "                sum=sum+digits**(len(str(i)))\n",
    "                Temp=Temp//10\n",
    "            if i==sum:\n",
    "                List_of_Armstrong.append(i)\n",
    "        return List_of_Armstrong\n",
    "Ansh=Armstrong_Checker(100,2000)\n",
    "print(Ansh.Check())"
   ]
  },
  {
   "cell_type": "markdown",
   "id": "09b9aa9c-3963-459b-afd9-a1f35cf92315",
   "metadata": {},
   "source": [
    "6.\tWrite a Python Program to Find the Sum of Natural Numbers?"
   ]
  },
  {
   "cell_type": "code",
   "execution_count": 6,
   "id": "ab26bd3b-84de-4728-9c00-a46de08f1ad9",
   "metadata": {},
   "outputs": [
    {
     "name": "stdout",
     "output_type": "stream",
     "text": [
      "55\n"
     ]
    }
   ],
   "source": [
    "class sum_of_Natural_Numbers:\n",
    "    def __init__(self,range) -> None:\n",
    "        self.range=range\n",
    "\n",
    "    def get(self):\n",
    "        return sum(range(1,self.range+1))\n",
    "\n",
    "Ansh=sum_of_Natural_Numbers(10)\n",
    "print(Ansh.get())        "
   ]
  }
 ],
 "metadata": {
  "kernelspec": {
   "display_name": "Python 3 (ipykernel)",
   "language": "python",
   "name": "python3"
  },
  "language_info": {
   "codemirror_mode": {
    "name": "ipython",
    "version": 3
   },
   "file_extension": ".py",
   "mimetype": "text/x-python",
   "name": "python",
   "nbconvert_exporter": "python",
   "pygments_lexer": "ipython3",
   "version": "3.12.1"
  }
 },
 "nbformat": 4,
 "nbformat_minor": 5
}

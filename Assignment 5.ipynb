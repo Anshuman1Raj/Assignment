{
 "cells": [
  {
   "cell_type": "markdown",
   "id": "3661d37e-ef76-438c-abb5-ae7431a834cc",
   "metadata": {},
   "source": [
    "1.\tWrite a Python Program to Find LCM?"
   ]
  },
  {
   "cell_type": "code",
   "execution_count": 1,
   "id": "e59c9391-b195-434d-8105-8cbff42ebe80",
   "metadata": {},
   "outputs": [
    {
     "name": "stdout",
     "output_type": "stream",
     "text": [
      "6\n"
     ]
    }
   ],
   "source": [
    "import math\n",
    "class LCM:\n",
    "    def __init__(self,Number1,Number2) -> None:\n",
    "        self.Number1=Number1\n",
    "        self.Number2=Number2\n",
    "    def Get_Lcm(self):\n",
    "        Result=math.lcm(self.Number1,self.Number2)\n",
    "        return Result\n",
    "Ansh=LCM(2,3)\n",
    "print(Ansh.Get_Lcm())    "
   ]
  },
  {
   "cell_type": "markdown",
   "id": "a96002f9-33da-40de-a5fb-8571eedbc15a",
   "metadata": {},
   "source": [
    "2.\tWrite a Python Program to Find HCF?"
   ]
  },
  {
   "cell_type": "code",
   "execution_count": 5,
   "id": "aac3ee48-e0f0-49e4-b040-7f83ae990fb5",
   "metadata": {},
   "outputs": [
    {
     "name": "stdout",
     "output_type": "stream",
     "text": [
      "12\n"
     ]
    }
   ],
   "source": [
    "class HCF:\n",
    "    def __init__(self,Number1,Number2) -> None:\n",
    "        self.Number1=Number1\n",
    "        self.Number2=Number2\n",
    "    def Get_HCF(self):\n",
    "        hcf=1\n",
    "        for i in range(1,min(self.Number1,self.Number2)):\n",
    "            if self.Number1%i==0 and self.Number2%i==0:\n",
    "                hcf=i\n",
    "        return hcf\n",
    "Ansh=HCF(36,60)\n",
    "print(Ansh.Get_HCF())    "
   ]
  },
  {
   "cell_type": "markdown",
   "id": "36630f18-ff27-4c9a-9ca5-18a6de6240f3",
   "metadata": {},
   "source": [
    "3.\tWrite a Python Program to Convert Decimal to Binary, Octal and Hexadecimal?"
   ]
  },
  {
   "cell_type": "code",
   "execution_count": 6,
   "id": "0034bddf-0cc2-48cf-88df-e818d0b1daa5",
   "metadata": {},
   "outputs": [
    {
     "name": "stdout",
     "output_type": "stream",
     "text": [
      "24\n",
      "44\n",
      "100100\n"
     ]
    }
   ],
   "source": [
    "class Conversion:\n",
    "    def __init__(self,Decimal) -> None:\n",
    "        self.Decimal=Decimal\n",
    "\n",
    "    def Binary(self):\n",
    "          return bin(self.Decimal)[2:]\n",
    "    def Octal(self):\n",
    "          return oct(self.Decimal)[2:]\n",
    "    def Hexadecimal(self):\n",
    "          return hex(self.Decimal)[2:]\n",
    "Ansh=Conversion(36)\n",
    "print(Ansh.Hexadecimal())      \n",
    "print(Ansh.Octal())      \n",
    "print(Ansh.Binary())      "
   ]
  },
  {
   "cell_type": "markdown",
   "id": "e3430891-1df9-405a-9297-b8495844d73d",
   "metadata": {},
   "source": [
    "4.\tWrite a Python Program To Find ASCII value of a character?"
   ]
  },
  {
   "cell_type": "code",
   "execution_count": 7,
   "id": "dd5a45fe-8d97-4e26-92f3-ba42f9056212",
   "metadata": {},
   "outputs": [
    {
     "name": "stdout",
     "output_type": "stream",
     "text": [
      "64\n"
     ]
    }
   ],
   "source": [
    "class ASCII_VAlUE:\n",
    "    def __init__(self,Character) -> None:\n",
    "        self.Character=Character\n",
    "    def GET_ASCII_VAlUE(self):\n",
    "        return ord(self.Character)\n",
    "\n",
    "Ansh=ASCII_VAlUE(\"@\")\n",
    "print(Ansh.GET_ASCII_VAlUE())    "
   ]
  },
  {
   "cell_type": "markdown",
   "id": "67ef394c-1d8e-4091-b858-e58aca5cb076",
   "metadata": {},
   "source": [
    "5.\tWrite a Python Program to Make a Simple Calculator with 4 basic mathematical operations?"
   ]
  },
  {
   "cell_type": "code",
   "execution_count": 8,
   "id": "e64ff761-7f5e-4983-b8af-f6d0d4da9925",
   "metadata": {},
   "outputs": [
    {
     "name": "stdout",
     "output_type": "stream",
     "text": [
      "3\n"
     ]
    }
   ],
   "source": [
    "class Calculator:\n",
    "    def __init__(self,Number1,Number2) -> None:\n",
    "        self.Number1=Number1\n",
    "        self.Number2=Number2\n",
    "    def add(self):\n",
    "        return self.Number1+self.Number2    \n",
    "    def substraction(self):\n",
    "        return max(self.Number1,self.Number2)-min(self.Number2,self.Number1)    \n",
    "    def Multiply(self):\n",
    "        return self.Number1*self.Number2    \n",
    "    def add(self):\n",
    "        return max(self.Number1,self.Number2)/min(self.Number2,self.Number1)\n",
    "Ansh=Calculator(3,6)\n",
    "print(Ansh.substraction())         "
   ]
  }
 ],
 "metadata": {
  "kernelspec": {
   "display_name": "Python 3 (ipykernel)",
   "language": "python",
   "name": "python3"
  },
  "language_info": {
   "codemirror_mode": {
    "name": "ipython",
    "version": 3
   },
   "file_extension": ".py",
   "mimetype": "text/x-python",
   "name": "python",
   "nbconvert_exporter": "python",
   "pygments_lexer": "ipython3",
   "version": "3.12.1"
  }
 },
 "nbformat": 4,
 "nbformat_minor": 5
}

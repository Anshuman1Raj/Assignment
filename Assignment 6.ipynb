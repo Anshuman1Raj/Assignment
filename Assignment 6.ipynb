{
 "cells": [
  {
   "cell_type": "markdown",
   "id": "495a5254-a18e-434a-b6d4-f24ca560fda6",
   "metadata": {},
   "source": [
    "1.\tWrite a Python Program to Display Fibonacci Sequence Using Recursion?"
   ]
  },
  {
   "cell_type": "code",
   "execution_count": 1,
   "id": "21724a80-a8cd-40e4-a8f9-df6b5d36f660",
   "metadata": {},
   "outputs": [
    {
     "name": "stdin",
     "output_type": "stream",
     "text": [
      "Enter Nth Number 9\n"
     ]
    },
    {
     "name": "stdout",
     "output_type": "stream",
     "text": [
      "1,1,2,3,5,8,13,21,34,"
     ]
    }
   ],
   "source": [
    "def Fibonacci(Number):\n",
    "    if Number<=1:\n",
    "        return 1\n",
    "    return Fibonacci(Number-1)+Fibonacci(Number-2)\n",
    "ntTerm=int(input(\"Enter Nth Number\"))\n",
    "for i in range(ntTerm):\n",
    "    print(Fibonacci(i),end=\",\")"
   ]
  },
  {
   "cell_type": "markdown",
   "id": "73286432-4ced-420b-b534-c11d6f433d4e",
   "metadata": {},
   "source": [
    "2.\tWrite a Python Program to Find Factorial of Number Using Recursion?"
   ]
  },
  {
   "cell_type": "code",
   "execution_count": 2,
   "id": "18070c9d-6957-407e-89d0-c0b9faec2cd1",
   "metadata": {},
   "outputs": [
    {
     "name": "stdout",
     "output_type": "stream",
     "text": [
      "120\n"
     ]
    }
   ],
   "source": [
    "def Factorial(Number):\n",
    "    if Number==1 or Number==0:\n",
    "        return 1\n",
    "    return Number*Factorial(Number-1)\n",
    "Ansh=Factorial(5)\n",
    "print(Ansh)"
   ]
  },
  {
   "cell_type": "markdown",
   "id": "da6461d4-d572-42c4-b314-877fbb3b7a1d",
   "metadata": {},
   "source": [
    "3.\tWrite a Python Program to calculate your Body Mass Index?"
   ]
  },
  {
   "cell_type": "code",
   "execution_count": 3,
   "id": "73c0b649-94a3-4090-8df7-e2d592352189",
   "metadata": {},
   "outputs": [
    {
     "name": "stdout",
     "output_type": "stream",
     "text": [
      "22.656249999999996\n"
     ]
    }
   ],
   "source": [
    "class BMI:\n",
    "    def Metric_system(self,Weight_In_Kilogram,Height_In_Meter):\n",
    "        self.Weight_In_Kilogram=Weight_In_Kilogram\n",
    "        self.Height_In_Meter=Height_In_Meter\n",
    "        Body_Mass_Index=self.Weight_In_Kilogram/self.Height_In_Meter**2\n",
    "        return Body_Mass_Index\n",
    "    def Imperial_System(self,Weight_In_Pound,Height_In_Inches):\n",
    "        self.Weight_In_Pound=Weight_In_Pound\n",
    "        self.Height_In_Inches=Height_In_Inches\n",
    "        Body_Mass_Index=703*(self.Weight_In_Pound/self.Height_In_Inches**2)\n",
    "        return Body_Mass_Index\n",
    "Ansh=BMI()\n",
    "print(Ansh.Metric_system(58,1.6))    \n"
   ]
  },
  {
   "cell_type": "markdown",
   "id": "a9936ab6-3bd0-47df-b030-24008545dd96",
   "metadata": {},
   "source": [
    "4.\tWrite a Python Program to calculate the natural logarithm of any number?"
   ]
  },
  {
   "cell_type": "code",
   "execution_count": 4,
   "id": "2f71ca2a-be79-4785-aa33-9f9a2b990d43",
   "metadata": {},
   "outputs": [
    {
     "name": "stdout",
     "output_type": "stream",
     "text": [
      "2.302585092994046\n"
     ]
    }
   ],
   "source": [
    "import math\n",
    "class Natural_Log:\n",
    "    def __init__(self,Number) -> None:\n",
    "        self.Number=Number\n",
    "\n",
    "    def get(self):\n",
    "        return math.log(self.Number)\n",
    "Ansh=Natural_Log(10)\n",
    "print(Ansh.get())    "
   ]
  },
  {
   "cell_type": "markdown",
   "id": "cdf909ff-638c-49a8-995a-ce731acb4a28",
   "metadata": {},
   "source": [
    "5.\tWrite a Python Program for cube sum of first n natural numbers?"
   ]
  },
  {
   "cell_type": "code",
   "execution_count": 5,
   "id": "b01828cb-d2e0-470c-a706-8bf1fa72c900",
   "metadata": {},
   "outputs": [
    {
     "name": "stdout",
     "output_type": "stream",
     "text": [
      "36\n"
     ]
    }
   ],
   "source": [
    "class Cube_Sum:\n",
    "    def __init__(self,Natural_Number) -> None:\n",
    "        self.Natural_Number=Natural_Number\n",
    "    def get(self):\n",
    "        result=0\n",
    "        for i in range(1,self.Natural_Number+1):\n",
    "            result+=i**3\n",
    "        return result\n",
    "Ansh=Cube_Sum(3)\n",
    "print(Ansh.get())        "
   ]
  }
 ],
 "metadata": {
  "kernelspec": {
   "display_name": "Python 3 (ipykernel)",
   "language": "python",
   "name": "python3"
  },
  "language_info": {
   "codemirror_mode": {
    "name": "ipython",
    "version": 3
   },
   "file_extension": ".py",
   "mimetype": "text/x-python",
   "name": "python",
   "nbconvert_exporter": "python",
   "pygments_lexer": "ipython3",
   "version": "3.12.1"
  }
 },
 "nbformat": 4,
 "nbformat_minor": 5
}

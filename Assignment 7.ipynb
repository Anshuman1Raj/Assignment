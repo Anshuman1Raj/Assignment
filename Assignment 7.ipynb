{
 "cells": [
  {
   "cell_type": "markdown",
   "id": "45e2ff20-f3c5-4226-a048-4b542ce10104",
   "metadata": {},
   "source": [
    "1.\tWrite a Python Program to find sum of array?"
   ]
  },
  {
   "cell_type": "code",
   "execution_count": 1,
   "id": "26100a57-6f04-49c3-b613-bf3cd011ca0b",
   "metadata": {},
   "outputs": [
    {
     "name": "stdout",
     "output_type": "stream",
     "text": [
      "15\n"
     ]
    }
   ],
   "source": [
    "class Sum_Of_Array:\n",
    "    def __init__(self,list) -> None:\n",
    "        self.list=list\n",
    "    def sum(self):\n",
    "        return sum(self.list)    \n",
    "\n",
    "Ansh=Sum_Of_Array([1,2,3,4,5])  \n",
    "print(Ansh.sum())  "
   ]
  },
  {
   "cell_type": "markdown",
   "id": "8855e2b3-f478-43c2-b1ba-3b63ad7a5f14",
   "metadata": {},
   "source": [
    "2.\tWrite a Python Program to find largest element in an array?"
   ]
  },
  {
   "cell_type": "code",
   "execution_count": 2,
   "id": "48d7ee6c-64b8-4d6f-ac2a-f3a0b365bdce",
   "metadata": {},
   "outputs": [
    {
     "name": "stdout",
     "output_type": "stream",
     "text": [
      "7\n"
     ]
    }
   ],
   "source": [
    "class Largest_Of_Array:\n",
    "    def __init__(self,list) -> None:\n",
    "        self.list=list\n",
    "    def Largest(self):\n",
    "        return max(self.list)    \n",
    "\n",
    "Ansh=Largest_Of_Array([1,2,3,7,4,5])  \n",
    "print(Ansh.Largest())  "
   ]
  },
  {
   "cell_type": "markdown",
   "id": "85594b4c-e321-4327-88e9-14d0185813dc",
   "metadata": {},
   "source": [
    "3.\tWrite a Python Program for array rotation?"
   ]
  },
  {
   "cell_type": "code",
   "execution_count": 1,
   "id": "639f9d1b-6528-43a8-9bb3-fe1f57965ac6",
   "metadata": {},
   "outputs": [
    {
     "name": "stdout",
     "output_type": "stream",
     "text": [
      "[5, 6, 1, 2, 4]\n"
     ]
    }
   ],
   "source": [
    "class Array_Rotation:\n",
    "    def __init__(self,array,Element_rotated) -> None:\n",
    "        self.array=array\n",
    "        self.Element=Element_rotated\n",
    "    def Rotator(self):\n",
    "        return self.array[self.Element:]+self.array[:self.Element] \n",
    "Ansh=Array_Rotation([1,2,4,5,6],3)\n",
    "print(Ansh.Rotator())       "
   ]
  },
  {
   "cell_type": "markdown",
   "id": "e6b1a2d2-0ca7-4f6a-b944-7c73f2489117",
   "metadata": {},
   "source": [
    "4.\tWrite a Python Program to Split the array and add the first part to the end?"
   ]
  },
  {
   "cell_type": "code",
   "execution_count": 3,
   "id": "31f24f6b-dc80-4d19-b3e2-ab229fb66930",
   "metadata": {},
   "outputs": [
    {
     "name": "stdout",
     "output_type": "stream",
     "text": [
      "[1, 2, 3]\n"
     ]
    }
   ],
   "source": [
    "class split_and_add:\n",
    "    def __init__(self,list) -> None:\n",
    "        self.list=list\n",
    "    def splitter(self):\n",
    "        self.list.append(self.list[0])    \n",
    "        self.list.pop(0)\n",
    "        return self.list\n",
    "Ansh=split_and_add([3,1,2])\n",
    "print(Ansh.splitter())        "
   ]
  },
  {
   "cell_type": "markdown",
   "id": "37215fe0-85ab-447f-af34-45305fb29819",
   "metadata": {},
   "source": [
    "5.\tWrite a Python Program to check if given array is Monotonic?"
   ]
  },
  {
   "cell_type": "code",
   "execution_count": 4,
   "id": "87e4cc9d-8932-4202-848a-29b06c2966d1",
   "metadata": {},
   "outputs": [
    {
     "name": "stdout",
     "output_type": "stream",
     "text": [
      "False\n"
     ]
    }
   ],
   "source": [
    "class Monotoic:\n",
    "    def __init__(self,Array) -> None:\n",
    "        self.Array=Array\n",
    "    def Checker(self):\n",
    "        list1,list2=[],[]\n",
    "        list1.extend(self.Array)\n",
    "        list2.extend(self.Array)\n",
    "        list1.sort()\n",
    "        list2.sort(reverse=True)\n",
    "        if (self.Array==list1 or self.Array==list2):\n",
    "            return True\n",
    "        else:\n",
    "            return False\n",
    "Ansh=Monotoic([1,2,5,3,4])\n",
    "print(Ansh.Checker())        "
   ]
  },
  {
   "cell_type": "code",
   "execution_count": null,
   "id": "a8d3c838-5da5-40fc-a0a1-ba9b4317653d",
   "metadata": {},
   "outputs": [],
   "source": []
  }
 ],
 "metadata": {
  "kernelspec": {
   "display_name": "Python 3 (ipykernel)",
   "language": "python",
   "name": "python3"
  },
  "language_info": {
   "codemirror_mode": {
    "name": "ipython",
    "version": 3
   },
   "file_extension": ".py",
   "mimetype": "text/x-python",
   "name": "python",
   "nbconvert_exporter": "python",
   "pygments_lexer": "ipython3",
   "version": "3.12.1"
  }
 },
 "nbformat": 4,
 "nbformat_minor": 5
}

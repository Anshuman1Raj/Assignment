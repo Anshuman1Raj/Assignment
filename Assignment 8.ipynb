{
 "cells": [
  {
   "cell_type": "markdown",
   "id": "81c1ced4-df4d-4ccb-b56c-2b171a9f8e2c",
   "metadata": {},
   "source": [
    "1.\tWrite a Python Program to Add Two Matrices?"
   ]
  },
  {
   "cell_type": "code",
   "execution_count": 1,
   "id": "2c6fb0c1-b471-402d-b272-2b1d288c6368",
   "metadata": {},
   "outputs": [
    {
     "name": "stdout",
     "output_type": "stream",
     "text": [
      "[[6, 8], [10, 12]]\n"
     ]
    }
   ],
   "source": [
    "def add_2_Matrix(Matrix1,Matrix2):\n",
    "    rows=len(Matrix1)\n",
    "    Columns=len(Matrix1[0])\n",
    "    New_List=[[0 for _ in range(rows)] for _ in range(Columns)]\n",
    "    for i in range(len(Matrix1)):\n",
    "        for j in range(len(Matrix1[0])):\n",
    "            New_List[i][j]=Matrix1[i][j]+Matrix2[i][j]\n",
    "    return New_List        \n",
    "        \n",
    "Ansh=add_2_Matrix([[1,2],[3,4]],[[5,6],[7,8]])\n",
    "print(Ansh)\n",
    "\n",
    "            "
   ]
  },
  {
   "cell_type": "markdown",
   "id": "53f455ca-4d40-4f0f-94d6-5bed6726e88d",
   "metadata": {},
   "source": [
    "2.\tWrite a Python Program to Multiply Two Matrices?"
   ]
  },
  {
   "cell_type": "code",
   "execution_count": 2,
   "id": "1f543ac5-2f09-4cd3-a977-c86239b1ff24",
   "metadata": {},
   "outputs": [
    {
     "name": "stdout",
     "output_type": "stream",
     "text": [
      "[[5, 12], [21, 32]]\n"
     ]
    }
   ],
   "source": [
    "def Multiply_2_Matrix(Matrix1,Matrix2):\n",
    "    rows=len(Matrix1)\n",
    "    Columns=len(Matrix1[0])\n",
    "    New_List=[[0 for _ in range(rows)] for _ in range(Columns)]\n",
    "    for i in range(len(Matrix1)):\n",
    "        for j in range(len(Matrix1[0])):\n",
    "            New_List[i][j]=Matrix1[i][j]*Matrix2[i][j]\n",
    "    return New_List        \n",
    "        \n",
    "Ansh=Multiply_2_Matrix([[1,2],[3,4]],[[5,6],[7,8]])\n",
    "print(Ansh)\n",
    "\n",
    "            "
   ]
  },
  {
   "cell_type": "markdown",
   "id": "564aab84-58f2-49df-a3ef-9ad7104f4e8a",
   "metadata": {},
   "source": [
    "3.\tWrite a Python Program to Transpose a Matrix?"
   ]
  },
  {
   "cell_type": "code",
   "execution_count": 3,
   "id": "3f06372c-850d-4bf2-9861-2a7cfece7766",
   "metadata": {},
   "outputs": [
    {
     "name": "stdout",
     "output_type": "stream",
     "text": [
      "[[1, 3], [2, 4]]\n"
     ]
    }
   ],
   "source": [
    "def Transpose(Matrix1):\n",
    "    rows=len(Matrix1)\n",
    "    Columns=len(Matrix1[0])\n",
    "    New_List=[[0 for _ in range(rows)] for _ in range(Columns)]\n",
    "    for i in range(len(Matrix1)):\n",
    "        for j in range(len(Matrix1[0])):\n",
    "            New_List[j][i]=Matrix1[i][j]\n",
    "    return New_List        \n",
    "        \n",
    "Ansh=Transpose([[1,2],[3,4]])\n",
    "print(Ansh)\n",
    "\n",
    "            "
   ]
  },
  {
   "cell_type": "markdown",
   "id": "d9ff7a7f-7939-4260-ab92-7b3337aa4176",
   "metadata": {},
   "source": [
    "4.\tWrite a Python Program to Sort Words in Alphabetic Order?"
   ]
  },
  {
   "cell_type": "code",
   "execution_count": 4,
   "id": "4d7ccfa9-f599-4be8-a39f-0a0768abf0ef",
   "metadata": {},
   "outputs": [
    {
     "name": "stdout",
     "output_type": "stream",
     "text": [
      "abcde\n"
     ]
    }
   ],
   "source": [
    "class Sort_Alphabetically:\n",
    "    def __init__(self,word) -> None:\n",
    "        self.word=word\n",
    "    def sorting(self):\n",
    "        New_List=([*self.word])\n",
    "        New_List.sort()\n",
    "        return \"\".join(New_List)\n",
    "Ansh=Sort_Alphabetically(\"edcba\")\n",
    "print(Ansh.sorting())"
   ]
  },
  {
   "cell_type": "markdown",
   "id": "43f30259-9901-4d5a-9829-26526c3b4c25",
   "metadata": {},
   "source": [
    "5.\tWrite a Python Program to Remove Punctuation From a String?"
   ]
  },
  {
   "cell_type": "code",
   "execution_count": 5,
   "id": "363d1847-56e0-4f65-92f2-100dc89a0ae9",
   "metadata": {},
   "outputs": [
    {
     "name": "stdout",
     "output_type": "stream",
     "text": [
      "sonal\n"
     ]
    }
   ],
   "source": [
    "import string\n",
    "class Remove_Punctuation:\n",
    "    def __init__(self,String) -> None:\n",
    "        self.String=String\n",
    "    def Remover(self):\n",
    "        New_List=([*self.String])\n",
    "        Punct=([*string.punctuation])\n",
    "        newstr=\"\"\n",
    "        for i in New_List:\n",
    "            if i in Punct:\n",
    "                pass\n",
    "            else:\n",
    "                newstr+=i\n",
    "        return newstr\n",
    "Ansh=Remove_Punctuation(\"s@onal\")\n",
    "print(Ansh.Remover())            \n",
    "          "
   ]
  }
 ],
 "metadata": {
  "kernelspec": {
   "display_name": "Python 3 (ipykernel)",
   "language": "python",
   "name": "python3"
  },
  "language_info": {
   "codemirror_mode": {
    "name": "ipython",
    "version": 3
   },
   "file_extension": ".py",
   "mimetype": "text/x-python",
   "name": "python",
   "nbconvert_exporter": "python",
   "pygments_lexer": "ipython3",
   "version": "3.12.1"
  }
 },
 "nbformat": 4,
 "nbformat_minor": 5
}

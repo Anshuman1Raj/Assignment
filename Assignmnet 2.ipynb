{
 "cells": [
  {
   "cell_type": "markdown",
   "id": "8da87135-08ac-4bfe-8bfa-a7042a175a8a",
   "metadata": {},
   "source": [
    "1.\tWrite a Python program to convert kilometers to miles?"
   ]
  },
  {
   "cell_type": "code",
   "execution_count": 1,
   "id": "ab3785cd-6036-4006-86f9-d39348a15410",
   "metadata": {},
   "outputs": [
    {
     "name": "stdout",
     "output_type": "stream",
     "text": [
      "3 Kilometres=1.8641135699999998 Miles\n"
     ]
    }
   ],
   "source": [
    "class Conversion:\n",
    "    def __init__(self,Kilometers) -> None:\n",
    "        self.kilometers=Kilometers\n",
    "        \n",
    "\n",
    "    def kilometer_to_miles(self):\n",
    "        return f\"{self.kilometers} Kilometres={self.kilometers*0.62137119} Miles\"\n",
    "Ansh=Conversion(3)\n",
    "print(Ansh.kilometer_to_miles())   "
   ]
  },
  {
   "cell_type": "markdown",
   "id": "065bfe97-b5e0-4f2e-9b51-ca5b58a58aa6",
   "metadata": {},
   "source": [
    "2.\tWrite a Python program to convert Celsius to Fahrenheit?"
   ]
  },
  {
   "cell_type": "code",
   "execution_count": 2,
   "id": "3515a2d1-4a2a-41a8-9067-55b8d3d39890",
   "metadata": {},
   "outputs": [
    {
     "name": "stdout",
     "output_type": "stream",
     "text": [
      "10 Celcius = 50.0 Fahrenheit\n"
     ]
    }
   ],
   "source": [
    "class Conversion:\n",
    "    def __init__(self,Celcius) -> None:\n",
    "        self.Celcius=Celcius\n",
    "        \n",
    "\n",
    "    def Celcius_to_Fahrenheit(self):\n",
    "        return f\"{self.Celcius} Celcius = {(self.Celcius*9/5)+32} Fahrenheit\"\n",
    "Ansh=Conversion(10)\n",
    "print(Ansh.Celcius_to_Fahrenheit())        "
   ]
  },
  {
   "cell_type": "markdown",
   "id": "364814a5-d954-456a-bf2e-0bb28de8d7b0",
   "metadata": {},
   "source": [
    "3.\tWrite a Python program to display calendar?"
   ]
  },
  {
   "cell_type": "code",
   "execution_count": 3,
   "id": "35e0e085-5863-4042-9185-71e74111c008",
   "metadata": {},
   "outputs": [
    {
     "name": "stdout",
     "output_type": "stream",
     "text": [
      "     April 2024\n",
      "Mo Tu We Th Fr Sa Su\n",
      " 1  2  3  4  5  6  7\n",
      " 8  9 10 11 12 13 14\n",
      "15 16 17 18 19 20 21\n",
      "22 23 24 25 26 27 28\n",
      "29 30\n",
      "\n"
     ]
    }
   ],
   "source": [
    "import calendar\n",
    "\n",
    "class Calender:\n",
    "    def __init__(self,year,month) -> None:\n",
    "        self.year=year\n",
    "        self.month=month\n",
    "    def show(self):\n",
    "        return calendar.month(self.year,self.month)\n",
    "\n",
    "Ansh=Calender(2024,4)\n",
    "print(Ansh.show())\n"
   ]
  },
  {
   "cell_type": "markdown",
   "id": "176f561c-5780-49b6-81e5-e91a4bf128f8",
   "metadata": {},
   "source": [
    "4.\tWrite a Python program to solve quadratic equation?"
   ]
  },
  {
   "cell_type": "code",
   "execution_count": 4,
   "id": "6d037168-04bd-4490-a52e-e662e3a71682",
   "metadata": {},
   "outputs": [
    {
     "name": "stdout",
     "output_type": "stream",
     "text": [
      " The solution of the Quadration Equation is (-3+0j) and (-2+0j) \n"
     ]
    }
   ],
   "source": [
    "import cmath\n",
    "class Quadratic_Equation:\n",
    "    def __init__(self,First_coefficients,Second_coefficients,Third_coefficients) -> None:\n",
    "        self.First_coefficients=First_coefficients\n",
    "        self.Second_coefficients=Second_coefficients\n",
    "        self.Third_coefficients=Third_coefficients\n",
    "        self.Soultion1=(-self.Second_coefficients-cmath.sqrt((self.Second_coefficients**2) - (4*self.First_coefficients*self.Third_coefficients)))/(2*self.First_coefficients)\n",
    "        self.Soultion2=(-self.Second_coefficients+cmath.sqrt((self.Second_coefficients**2) - (4*self.First_coefficients*self.Third_coefficients)))/(2*self.First_coefficients)\n",
    "    def Solution(self):\n",
    "        return f\" The solution of the Quadration Equation is {self.Soultion1} and {self.Soultion2} \"\n",
    "Ansh=Quadratic_Equation(1,5,6)\n",
    "print(Ansh.Solution())    "
   ]
  },
  {
   "cell_type": "markdown",
   "id": "faf69d7d-256c-47fd-adaf-9080e6ec4940",
   "metadata": {},
   "source": [
    "5.\tWrite a Python program to swap two variables without temp variable?"
   ]
  },
  {
   "cell_type": "code",
   "execution_count": 5,
   "id": "ececf4dd-1113-4e56-9da7-8ae27436414f",
   "metadata": {},
   "outputs": [
    {
     "name": "stdout",
     "output_type": "stream",
     "text": [
      "Numbers are 244, 496\n",
      "Numbers after Swapping 496,244\n"
     ]
    }
   ],
   "source": [
    "import random\n",
    "\n",
    "class Swapping:\n",
    "    def __init__(self, First_Number, Second_Number) -> None:\n",
    "        self.First_Number=First_Number\n",
    "        self.Second_Number=Second_Number\n",
    "    def Swap(self):\n",
    "        self.First_Number=random.randint(1,1000)\n",
    "        self.Second_Number=random.randint (1,1000)\n",
    "        print(f\"Numbers are {self.First_Number}, {self.Second_Number}\")\n",
    "        self.First_Number, self.Second_Number=self.Second_Number, self.First_Number\n",
    "        return f\"Numbers after Swapping {self.First_Number},{self.Second_Number}\"\n",
    "Ansh=Swapping(\"\",\"\")\n",
    "print(Ansh.Swap())    \n"
   ]
  },
  {
   "cell_type": "code",
   "execution_count": null,
   "id": "bd312561-8dc4-4dd8-b754-b53c34350ec3",
   "metadata": {},
   "outputs": [],
   "source": []
  }
 ],
 "metadata": {
  "kernelspec": {
   "display_name": "Python 3 (ipykernel)",
   "language": "python",
   "name": "python3"
  },
  "language_info": {
   "codemirror_mode": {
    "name": "ipython",
    "version": 3
   },
   "file_extension": ".py",
   "mimetype": "text/x-python",
   "name": "python",
   "nbconvert_exporter": "python",
   "pygments_lexer": "ipython3",
   "version": "3.12.1"
  }
 },
 "nbformat": 4,
 "nbformat_minor": 5
}
